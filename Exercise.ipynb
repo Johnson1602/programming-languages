{
 "cells": [
  {
   "cell_type": "code",
   "execution_count": null,
   "metadata": {},
   "outputs": [],
   "source": [
    "# 输入2个数字，输出最大数\n",
    "a, b = input('>>> ').split()\n",
    "if a > b:\n",
    "    print(a)\n",
    "elif a < b:\n",
    "    print(b)\n",
    "else:\n",
    "    print('Equal')"
   ]
  },
  {
   "cell_type": "code",
   "execution_count": null,
   "metadata": {},
   "outputs": [],
   "source": [
    "# 给定一个不超过5位的正整数，判断其有几位\n",
    "# 引入了不必要的计算，没有下一种好\n",
    "a = int(input('>>> '))\n",
    "if a // 10000:\n",
    "    print(5)\n",
    "elif a // 1000:\n",
    "    print(4)\n",
    "elif a // 100:\n",
    "    print(3)\n",
    "elif a // 10:\n",
    "    print(2)\n",
    "else:\n",
    "    print(1)"
   ]
  },
  {
   "cell_type": "code",
   "execution_count": null,
   "metadata": {},
   "outputs": [],
   "source": [
    "# 给定一个不超过5位的正整数，判断其有几位\n",
    "a = int(input('>>> '))\n",
    "if a < 10:\n",
    "    print(1)\n",
    "elif a < 100:\n",
    "    print(2)\n",
    "elif a < 1000:\n",
    "    print(3)\n",
    "elif a < 10000:\n",
    "    print(4)\n",
    "else:\n",
    "    print(5)"
   ]
  },
  {
   "cell_type": "code",
   "execution_count": null,
   "metadata": {},
   "outputs": [],
   "source": [
    "# 给定一个不超过5位的正整数，判断其有几位\n",
    "a = input('>>> ')\n",
    "l = len(a)\n",
    "print(l)"
   ]
  },
  {
   "cell_type": "code",
   "execution_count": null,
   "metadata": {},
   "outputs": [],
   "source": [
    "# 给定一个不超过5位的正整数，判断其有几位\n",
    "a = int(input('>>> '))\n",
    "if a >= 100:\n",
    "    if a >= 10000:\n",
    "        print(5)\n",
    "    elif a >= 1000:\n",
    "        print(4)\n",
    "else:\n",
    "    if a >= 10:\n",
    "        print(2)\n",
    "    else:\n",
    "        print(1)"
   ]
  },
  {
   "cell_type": "code",
   "execution_count": null,
   "metadata": {},
   "outputs": [],
   "source": [
    "flag = 10\n",
    "while flag:\n",
    "    print(flag)\n",
    "    flag -= 1"
   ]
  },
  {
   "cell_type": "code",
   "execution_count": null,
   "metadata": {},
   "outputs": [],
   "source": [
    "for i in range(10):\n",
    "    if i % 2:\n",
    "        continue\n",
    "    print(i)"
   ]
  },
  {
   "cell_type": "code",
   "execution_count": null,
   "metadata": {},
   "outputs": [],
   "source": [
    "# 给定一个不超过5位的正整数，判断该数的位数，依次打印出个位、十位、百位、千位、万位的数字\n",
    "# 法1\n",
    "a = int(input('>>> '))\n",
    "\n",
    "if a >= 1000:\n",
    "    if a >= 10000:\n",
    "        print(5)\n",
    "    else:\n",
    "        print(4)\n",
    "else:\n",
    "    if a >= 100:\n",
    "        print(3)\n",
    "    elif a >= 10:\n",
    "        print(2)\n",
    "    else:\n",
    "        print(1)\n",
    "\n",
    "wan = a // 10000\n",
    "qian = (a - wan * 10000) // 1000\n",
    "bai = (a - wan * 10000 - qian * 1000) // 100\n",
    "shi = (a - wan * 10000 - qian * 1000 - bai * 100) // 10\n",
    "ge = a - wan * 10000 - qian * 1000 - bai * 100 - shi * 10\n",
    "\n",
    "print(ge, shi, bai, qian, wan)"
   ]
  },
  {
   "cell_type": "code",
   "execution_count": null,
   "metadata": {},
   "outputs": [],
   "source": [
    "# 给定一个不超过5位的正整数，判断该数的位数，依次打印出个位、十位、百位、千位、万位的数字\n",
    "# 法2\n",
    "\n",
    "a = int(input('>>> '))\n",
    "\n",
    "if a >= 1000:\n",
    "    if a >= 10000:\n",
    "        num = 5\n",
    "    else:\n",
    "        num = 4\n",
    "else:\n",
    "    if a >= 100:\n",
    "        num = 3\n",
    "    elif a >= 10:\n",
    "        num = 2\n",
    "    else:\n",
    "        num = 1\n",
    "\n",
    "print(num)\n",
    "\n",
    "temp = a\n",
    "for i in range(num):\n",
    "    rest = temp // 10\n",
    "    print(temp - rest * 10)\n",
    "    temp = rest\n",
    "    "
   ]
  },
  {
   "cell_type": "code",
   "execution_count": null,
   "metadata": {},
   "outputs": [],
   "source": [
    "# 给定一个不超过5位的正整数，判断该数的位数，依次打印出个位、十位、百位、千位、万位的数字\n",
    "# 法3\n",
    "\n",
    "a = int(input('>>> '))\n",
    "\n",
    "if a >= 1000:\n",
    "    if a >= 10000:\n",
    "        num = 5\n",
    "    else:\n",
    "        num = 4\n",
    "else:\n",
    "    if a >= 100:\n",
    "        num = 3\n",
    "    elif a >= 10:\n",
    "        num = 2\n",
    "    else:\n",
    "        num = 1\n",
    "\n",
    "print(num)\n",
    "\n",
    "temp = a\n",
    "for i in range(num):\n",
    "    print(temp % 10)\n",
    "    temp //= 10\n"
   ]
  },
  {
   "cell_type": "code",
   "execution_count": null,
   "metadata": {},
   "outputs": [],
   "source": [
    "# 给定一个不超过5位的正整数，判断该数的位数，依次打印出个位、十位、百位、千位、万位的数字\n",
    "# 从万位打到个位\n",
    "\n",
    "a = int(input('>>> '))\n",
    "\n",
    "if a >= 1000:\n",
    "    if a >= 10000:\n",
    "        num = 5\n",
    "    else:\n",
    "        num = 4\n",
    "else:\n",
    "    if a >= 100:\n",
    "        num = 3\n",
    "    elif a >= 10:\n",
    "        num = 2\n",
    "    else:\n",
    "        num = 1\n",
    "\n",
    "print(num)\n",
    "\n",
    "temp = a\n",
    "for i in range(num):\n",
    "    print(temp // 10 ** (num - 1 - i))\n",
    "    temp %= 10 ** (num - 1 - i)"
   ]
  },
  {
   "cell_type": "code",
   "execution_count": null,
   "metadata": {},
   "outputs": [],
   "source": [
    "# 给定一个不超过5位的正整数，判断该数的位数，依次打印出个位、十位、百位、千位、万位的数字\n",
    "# 正反都打印一次\n",
    "num = 54321\n",
    "temp1 = num\n",
    "temp2 = num\n",
    "\n",
    "# 5,4,3,2,1\n",
    "for i in range(5):\n",
    "    print(temp1 // 10 ** (5 - i - 1))\n",
    "    temp1 %= 10 ** (5 - i - 1)\n",
    "    \n",
    "print('=' * 20)\n",
    "\n",
    "# 1,2,3,4,5\n",
    "for i in range(5):\n",
    "    print(temp2 % 10)\n",
    "    temp2 //= 10 "
   ]
  },
  {
   "cell_type": "code",
   "execution_count": null,
   "metadata": {},
   "outputs": [],
   "source": [
    "# 给定一个不超过5位的正整数，判断该数的位数，依次打印出个位、十位、百位、千位、万位的数字\n",
    "# 循环的时候就给计算了\n",
    "num = int(input('>>> '))\n",
    "w = 10000\n",
    "length = 5\n",
    "flag = False\n",
    "\n",
    "while w:\n",
    "    t = num // w\n",
    "    if flag:\n",
    "        print(t)\n",
    "    else:\n",
    "        if t:\n",
    "            print(t)\n",
    "            flag = True\n",
    "        else:\n",
    "            length -= 1\n",
    "    num %= w\n",
    "    w //= 10\n",
    "print('length: ', length)"
   ]
  },
  {
   "cell_type": "code",
   "execution_count": null,
   "metadata": {},
   "outputs": [],
   "source": [
    "# 打印一个边长为n的正方形\n",
    "# 法1\n",
    "n = int(input('>>> '))\n",
    "for i in range(n):\n",
    "    if i == 0 or i == n - 1:\n",
    "        print(n * '*')\n",
    "    else:\n",
    "        print('*' + (n - 2) * ' ' + '*')"
   ]
  },
  {
   "cell_type": "code",
   "execution_count": null,
   "metadata": {},
   "outputs": [],
   "source": [
    "# 打印一个边长为n的正方形\n",
    "# 法2\n",
    "n = int(input('>>> '))\n",
    "e = -n // 2\n",
    "end = n + e\n",
    "for i in range(e, end):\n",
    "    if i == e or i == end - 1:\n",
    "        print(n * '*')\n",
    "    else:\n",
    "        print('*' + (n - 2) * ' ' + '*')"
   ]
  },
  {
   "cell_type": "code",
   "execution_count": null,
   "metadata": {},
   "outputs": [],
   "source": [
    "# 求100内所有奇数的和(2500)\n",
    "sum = 0\n",
    "for i in range(1, 100, 2):\n",
    "    sum += i\n",
    "print(sum)"
   ]
  },
  {
   "cell_type": "code",
   "execution_count": null,
   "metadata": {},
   "outputs": [],
   "source": [
    "# 判断学生成绩，成绩等级A~E。其中，90分以上为'A'，80~89分为'B'，70~79分为'C'，60~69分为'D'，60分以下为'E'\n",
    "score = eval(input('>>> '))\n",
    "if score >= 80:\n",
    "    if score >= 90:\n",
    "        print('A')\n",
    "    else:\n",
    "        print('B')\n",
    "else:\n",
    "    if score >= 70:\n",
    "        print('C')\n",
    "    elif score >= 60:\n",
    "        print('D')\n",
    "    else:\n",
    "        print('E')"
   ]
  },
  {
   "cell_type": "code",
   "execution_count": null,
   "metadata": {},
   "outputs": [],
   "source": [
    "# 求1到5阶乘之和\n",
    "sum = 0\n",
    "for i in range(1, 6):\n",
    "    mul = 1\n",
    "    for j in range(1, i + 1):\n",
    "        mul *= j\n",
    "    sum += mul\n",
    "print(sum)"
   ]
  },
  {
   "cell_type": "code",
   "execution_count": null,
   "metadata": {},
   "outputs": [],
   "source": [
    "# 给一个数，判断它是否是素数(质数)\n",
    "num = int(input('>>> '))\n",
    "for i in range(2, num):\n",
    "    if not num % i:\n",
    "        print('NO')\n",
    "        break\n",
    "else:\n",
    "    print('YES')"
   ]
  },
  {
   "cell_type": "code",
   "execution_count": null,
   "metadata": {},
   "outputs": [],
   "source": [
    "# 打印九九乘法表矩阵\n",
    "for i in range(1, 10):\n",
    "    for j in range(1, 10):\n",
    "        print(i * j, end = '\\t')\n",
    "    print()"
   ]
  },
  {
   "cell_type": "code",
   "execution_count": null,
   "metadata": {},
   "outputs": [],
   "source": [
    "# 打印九九乘法表三角形\n",
    "for i in range(1, 10):\n",
    "    for j in range(1, i + 1):\n",
    "        print(i * j, end = '\\t')\n",
    "    print()"
   ]
  },
  {
   "cell_type": "code",
   "execution_count": 84,
   "metadata": {},
   "outputs": [
    {
     "name": "stdout",
     "output_type": "stream",
     "text": [
      "   *   \n",
      "  ***  \n",
      " ***** \n",
      "*******\n",
      " ***** \n",
      "  ***  \n",
      "   *   \n"
     ]
    }
   ],
   "source": [
    "# 打印右侧菱形\n",
    "# 法1\n",
    "space = 0\n",
    "for i in range(7):\n",
    "    if i < 4:\n",
    "        space = 3 - i\n",
    "    else:\n",
    "        space = -(3 - i)\n",
    "    print(space * ' ' + (7 - 2 * space) * '*' + space * ' ')"
   ]
  },
  {
   "cell_type": "code",
   "execution_count": null,
   "metadata": {},
   "outputs": [],
   "source": [
    "# 打印右侧菱形\n",
    "# 法2\n",
    "for i in range(-3, 4):\n",
    "    if i < 0:\n",
    "        i = -i\n",
    "    "
   ]
  },
  {
   "cell_type": "code",
   "execution_count": null,
   "metadata": {},
   "outputs": [],
   "source": [
    "# 打印100以内的斐波那契数列\n",
    "first = 0\n",
    "second = 1\n",
    "next = 0\n",
    "print('{} {}'.format(first, second), end = ' ')\n",
    "while first + second <= 100:\n",
    "    next = first + second\n",
    "    print(next, end = ' ')\n",
    "    first = second\n",
    "    second = next"
   ]
  },
  {
   "cell_type": "code",
   "execution_count": null,
   "metadata": {},
   "outputs": [],
   "source": [
    "# 求斐波那契数列第101项\n",
    "first = 0\n",
    "second = 1\n",
    "next = 0\n",
    "for i in range(99):\n",
    "    next = first + second\n",
    "    first = second\n",
    "    second = next\n",
    "print(next)"
   ]
  },
  {
   "cell_type": "code",
   "execution_count": null,
   "metadata": {},
   "outputs": [],
   "source": [
    "# 求10万内的所有素数 100000 (9592个)\n",
    "total = 0\n",
    "for i in range(2, 100000):\n",
    "    for j in range(2, i):\n",
    "        if not i % j:\n",
    "            break\n",
    "    else:\n",
    "#         print(i, end = ' ')\n",
    "        total += 1\n",
    "print(total)"
   ]
  },
  {
   "cell_type": "code",
   "execution_count": null,
   "metadata": {},
   "outputs": [],
   "source": []
  },
  {
   "cell_type": "code",
   "execution_count": null,
   "metadata": {},
   "outputs": [],
   "source": []
  },
  {
   "cell_type": "code",
   "execution_count": null,
   "metadata": {},
   "outputs": [],
   "source": []
  },
  {
   "cell_type": "code",
   "execution_count": null,
   "metadata": {},
   "outputs": [],
   "source": []
  },
  {
   "cell_type": "code",
   "execution_count": null,
   "metadata": {},
   "outputs": [],
   "source": []
  },
  {
   "cell_type": "code",
   "execution_count": null,
   "metadata": {},
   "outputs": [],
   "source": []
  },
  {
   "cell_type": "code",
   "execution_count": null,
   "metadata": {},
   "outputs": [],
   "source": []
  },
  {
   "cell_type": "code",
   "execution_count": null,
   "metadata": {},
   "outputs": [],
   "source": []
  },
  {
   "cell_type": "code",
   "execution_count": null,
   "metadata": {},
   "outputs": [],
   "source": []
  },
  {
   "cell_type": "code",
   "execution_count": null,
   "metadata": {},
   "outputs": [],
   "source": []
  },
  {
   "cell_type": "code",
   "execution_count": null,
   "metadata": {},
   "outputs": [],
   "source": [
    " "
   ]
  }
 ],
 "metadata": {
  "kernelspec": {
   "display_name": "Python 3",
   "language": "python",
   "name": "python3"
  },
  "language_info": {
   "codemirror_mode": {
    "name": "ipython",
    "version": 3
   },
   "file_extension": ".py",
   "mimetype": "text/x-python",
   "name": "python",
   "nbconvert_exporter": "python",
   "pygments_lexer": "ipython3",
   "version": "3.7.4"
  }
 },
 "nbformat": 4,
 "nbformat_minor": 2
}
