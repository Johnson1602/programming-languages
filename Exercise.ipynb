{
 "cells": [
  {
   "cell_type": "code",
   "execution_count": null,
   "metadata": {},
   "outputs": [],
   "source": [
    "# 输入2个数字，输出最大数\n",
    "a, b = input('>>> ').split()\n",
    "if a > b:\n",
    "    print(a)\n",
    "elif a < b:\n",
    "    print(b)\n",
    "else:\n",
    "    print('Equal')"
   ]
  },
  {
   "cell_type": "code",
   "execution_count": null,
   "metadata": {},
   "outputs": [],
   "source": [
    "# 给定一个不超过5位的正整数，判断其有几位\n",
    "# 引入了不必要的计算，没有下一种好\n",
    "a = int(input('>>> '))\n",
    "if a // 10000:\n",
    "    print(5)\n",
    "elif a // 1000:\n",
    "    print(4)\n",
    "elif a // 100:\n",
    "    print(3)\n",
    "elif a // 10:\n",
    "    print(2)\n",
    "else:\n",
    "    print(1)"
   ]
  },
  {
   "cell_type": "code",
   "execution_count": null,
   "metadata": {},
   "outputs": [],
   "source": [
    "# 给定一个不超过5位的正整数，判断其有几位\n",
    "a = int(input('>>> '))\n",
    "if a < 10:\n",
    "    print(1)\n",
    "elif a < 100:\n",
    "    print(2)\n",
    "elif a < 1000:\n",
    "    print(3)\n",
    "elif a < 10000:\n",
    "    print(4)\n",
    "else:\n",
    "    print(5)"
   ]
  },
  {
   "cell_type": "code",
   "execution_count": null,
   "metadata": {},
   "outputs": [],
   "source": [
    "# 给定一个不超过5位的正整数，判断其有几位\n",
    "a = input('>>> ')\n",
    "l = len(a)\n",
    "print(l)"
   ]
  },
  {
   "cell_type": "code",
   "execution_count": null,
   "metadata": {},
   "outputs": [],
   "source": [
    "# 给定一个不超过5位的正整数，判断其有几位\n",
    "a = int(input('>>> '))\n",
    "if a >= 100:\n",
    "    if a >= 10000:\n",
    "        print(5)\n",
    "    elif a >= 1000:\n",
    "        print(4)\n",
    "else:\n",
    "    if a >= 10:\n",
    "        print(2)\n",
    "    else:\n",
    "        print(1)"
   ]
  },
  {
   "cell_type": "code",
   "execution_count": null,
   "metadata": {},
   "outputs": [],
   "source": [
    "flag = 10\n",
    "while flag:\n",
    "    print(flag)\n",
    "    flag -= 1"
   ]
  },
  {
   "cell_type": "code",
   "execution_count": null,
   "metadata": {},
   "outputs": [],
   "source": [
    "for i in range(10):\n",
    "    if i % 2:\n",
    "        continue\n",
    "    print(i)"
   ]
  },
  {
   "cell_type": "code",
   "execution_count": null,
   "metadata": {},
   "outputs": [],
   "source": [
    "# 给定一个不超过5位的正整数，判断该数的位数，依次打印出个位、十位、百位、千位、万位的数字\n",
    "# 法1\n",
    "a = int(input('>>> '))\n",
    "\n",
    "if a >= 1000:\n",
    "    if a >= 10000:\n",
    "        print(5)\n",
    "    else:\n",
    "        print(4)\n",
    "else:\n",
    "    if a >= 100:\n",
    "        print(3)\n",
    "    elif a >= 10:\n",
    "        print(2)\n",
    "    else:\n",
    "        print(1)\n",
    "\n",
    "wan = a // 10000\n",
    "qian = (a - wan * 10000) // 1000\n",
    "bai = (a - wan * 10000 - qian * 1000) // 100\n",
    "shi = (a - wan * 10000 - qian * 1000 - bai * 100) // 10\n",
    "ge = a - wan * 10000 - qian * 1000 - bai * 100 - shi * 10\n",
    "\n",
    "print(ge, shi, bai, qian, wan)"
   ]
  },
  {
   "cell_type": "code",
   "execution_count": null,
   "metadata": {},
   "outputs": [],
   "source": [
    "# 给定一个不超过5位的正整数，判断该数的位数，依次打印出个位、十位、百位、千位、万位的数字\n",
    "# 法2\n",
    "\n",
    "a = int(input('>>> '))\n",
    "\n",
    "if a >= 1000:\n",
    "    if a >= 10000:\n",
    "        num = 5\n",
    "    else:\n",
    "        num = 4\n",
    "else:\n",
    "    if a >= 100:\n",
    "        num = 3\n",
    "    elif a >= 10:\n",
    "        num = 2\n",
    "    else:\n",
    "        num = 1\n",
    "\n",
    "print(num)\n",
    "\n",
    "temp = a\n",
    "for i in range(num):\n",
    "    rest = temp // 10\n",
    "    print(temp - rest * 10)\n",
    "    temp = rest\n",
    "    "
   ]
  },
  {
   "cell_type": "code",
   "execution_count": null,
   "metadata": {},
   "outputs": [],
   "source": [
    "# 给定一个不超过5位的正整数，判断该数的位数，依次打印出个位、十位、百位、千位、万位的数字\n",
    "# 法3\n",
    "\n",
    "a = int(input('>>> '))\n",
    "\n",
    "if a >= 1000:\n",
    "    if a >= 10000:\n",
    "        num = 5\n",
    "    else:\n",
    "        num = 4\n",
    "else:\n",
    "    if a >= 100:\n",
    "        num = 3\n",
    "    elif a >= 10:\n",
    "        num = 2\n",
    "    else:\n",
    "        num = 1\n",
    "\n",
    "print(num)\n",
    "\n",
    "temp = a\n",
    "for i in range(num):\n",
    "    print(temp % 10)\n",
    "    temp //= 10\n"
   ]
  },
  {
   "cell_type": "code",
   "execution_count": null,
   "metadata": {},
   "outputs": [],
   "source": [
    "# 给定一个不超过5位的正整数，判断该数的位数，依次打印出个位、十位、百位、千位、万位的数字\n",
    "# 从万位打到个位\n",
    "\n",
    "a = int(input('>>> '))\n",
    "\n",
    "if a >= 1000:\n",
    "    if a >= 10000:\n",
    "        num = 5\n",
    "    else:\n",
    "        num = 4\n",
    "else:\n",
    "    if a >= 100:\n",
    "        num = 3\n",
    "    elif a >= 10:\n",
    "        num = 2\n",
    "    else:\n",
    "        num = 1\n",
    "\n",
    "print(num)\n",
    "\n",
    "temp = a\n",
    "for i in range(num):\n",
    "    print(temp // 10 ** (num - 1 - i))\n",
    "    temp %= 10 ** (num - 1 - i)"
   ]
  },
  {
   "cell_type": "code",
   "execution_count": null,
   "metadata": {},
   "outputs": [],
   "source": [
    "# 给定一个不超过5位的正整数，判断该数的位数，依次打印出个位、十位、百位、千位、万位的数字\n",
    "# 正反都打印一次\n",
    "num = 54321\n",
    "temp1 = num\n",
    "temp2 = num\n",
    "\n",
    "# 5,4,3,2,1\n",
    "for i in range(5):\n",
    "    print(temp1 // 10 ** (5 - i - 1))\n",
    "    temp1 %= 10 ** (5 - i - 1)\n",
    "    \n",
    "print('=' * 20)\n",
    "\n",
    "# 1,2,3,4,5\n",
    "for i in range(5):\n",
    "    print(temp2 % 10)\n",
    "    temp2 //= 10 "
   ]
  },
  {
   "cell_type": "code",
   "execution_count": null,
   "metadata": {},
   "outputs": [],
   "source": [
    "# 给定一个不超过5位的正整数，判断该数的位数，依次打印出个位、十位、百位、千位、万位的数字\n",
    "# 循环的时候就给计算了\n",
    "num = int(input('>>> '))\n",
    "w = 10000\n",
    "length = 5\n",
    "flag = False\n",
    "\n",
    "while w:\n",
    "    t = num // w\n",
    "    if flag:\n",
    "        print(t)\n",
    "    else:\n",
    "        if t:\n",
    "            print(t)\n",
    "            flag = True\n",
    "        else:\n",
    "            length -= 1\n",
    "    num %= w\n",
    "    w //= 10\n",
    "print('length:', length)"
   ]
  },
  {
   "cell_type": "code",
   "execution_count": null,
   "metadata": {},
   "outputs": [],
   "source": [
    "# 打印一个边长为n的正方形\n",
    "# 法1\n",
    "n = int(input('>>> '))\n",
    "for i in range(n):\n",
    "    if i == 0 or i == n - 1:\n",
    "        print(n * '*')\n",
    "    else:\n",
    "        print('*' + (n - 2) * ' ' + '*')"
   ]
  },
  {
   "cell_type": "code",
   "execution_count": null,
   "metadata": {},
   "outputs": [],
   "source": [
    "# 打印一个边长为n的正方形\n",
    "# 法2\n",
    "n = int(input('>>> '))\n",
    "e = -n // 2\n",
    "end = n + e\n",
    "for i in range(e, end):\n",
    "    if i == e or i == end - 1:\n",
    "        print(n * '*')\n",
    "    else:\n",
    "        print('*' + (n - 2) * ' ' + '*')"
   ]
  },
  {
   "cell_type": "code",
   "execution_count": null,
   "metadata": {},
   "outputs": [],
   "source": [
    "# 求100内所有奇数的和(2500)\n",
    "sum = 0\n",
    "for i in range(1, 100, 2):\n",
    "    sum += i\n",
    "print(sum)"
   ]
  },
  {
   "cell_type": "code",
   "execution_count": null,
   "metadata": {},
   "outputs": [],
   "source": [
    "# 判断学生成绩，成绩等级A~E。其中，90分以上为'A'，80~89分为'B'，70~79分为'C'，60~69分为'D'，60分以下为'E'\n",
    "score = eval(input('>>> '))\n",
    "if score >= 80:\n",
    "    if score >= 90:\n",
    "        print('A')\n",
    "    else:\n",
    "        print('B')\n",
    "else:\n",
    "    if score >= 70:\n",
    "        print('C')\n",
    "    elif score >= 60:\n",
    "        print('D')\n",
    "    else:\n",
    "        print('E')"
   ]
  },
  {
   "cell_type": "code",
   "execution_count": 107,
   "metadata": {},
   "outputs": [
    {
     "name": "stdout",
     "output_type": "stream",
     "text": [
      "153\n"
     ]
    }
   ],
   "source": [
    "# 求1到5阶乘之和\n",
    "# 法1\n",
    "sum = 0\n",
    "for i in range(1, 6):\n",
    "    mul = 1\n",
    "    for j in range(1, i + 1):\n",
    "        mul *= j\n",
    "    sum += mul\n",
    "print(sum)"
   ]
  },
  {
   "cell_type": "code",
   "execution_count": 106,
   "metadata": {},
   "outputs": [
    {
     "name": "stdout",
     "output_type": "stream",
     "text": [
      "153\n"
     ]
    }
   ],
   "source": [
    "# 求1到5阶乘之和\n",
    "# 法2\n",
    "mul = 1\n",
    "sum = 0\n",
    "for i in range(1, 6):\n",
    "    mul *= i\n",
    "    sum += mul\n",
    "print(sum) "
   ]
  },
  {
   "cell_type": "code",
   "execution_count": 108,
   "metadata": {},
   "outputs": [
    {
     "name": "stdout",
     "output_type": "stream",
     "text": [
      ">>> 12577\n",
      "YES\n"
     ]
    }
   ],
   "source": [
    "# 给一个数，判断它是否是素数(质数)\n",
    "# 法1\n",
    "num = int(input('>>> '))\n",
    "for i in range(2, num):\n",
    "    if not num % i:\n",
    "        print('NO')\n",
    "        break\n",
    "else:\n",
    "    print('YES')"
   ]
  },
  {
   "cell_type": "code",
   "execution_count": 110,
   "metadata": {},
   "outputs": [
    {
     "name": "stdout",
     "output_type": "stream",
     "text": [
      ">>> 12577\n",
      "YES\n"
     ]
    }
   ],
   "source": [
    "# 给一个数，判断它是否是素数(质数)\n",
    "# 法2，优化为开方\n",
    "num = int(input('>>> '))\n",
    "for i in range(2, int(num ** 0.5) + 1):\n",
    "    if not num % i:\n",
    "        print('NO')\n",
    "        break\n",
    "else:\n",
    "    print('YES')"
   ]
  },
  {
   "cell_type": "code",
   "execution_count": 115,
   "metadata": {},
   "outputs": [
    {
     "name": "stdout",
     "output_type": "stream",
     "text": [
      "1\t2\t3\t4\t5\t6\t7\t8\t9\t\n",
      "2\t4\t6\t8\t10\t12\t14\t16\t18\t\n",
      "3\t6\t9\t12\t15\t18\t21\t24\t27\t\n",
      "4\t8\t12\t16\t20\t24\t28\t32\t36\t\n",
      "5\t10\t15\t20\t25\t30\t35\t40\t45\t\n",
      "6\t12\t18\t24\t30\t36\t42\t48\t54\t\n",
      "7\t14\t21\t28\t35\t42\t49\t56\t63\t\n",
      "8\t16\t24\t32\t40\t48\t56\t64\t72\t\n",
      "9\t18\t27\t36\t45\t54\t63\t72\t81\t\n"
     ]
    }
   ],
   "source": [
    "# 打印九九乘法表矩阵\n",
    "for i in range(1, 10):\n",
    "    for j in range(1, 10):\n",
    "        print(i * j, end='\\t')\n",
    "    print()"
   ]
  },
  {
   "cell_type": "code",
   "execution_count": 124,
   "metadata": {},
   "outputs": [
    {
     "name": "stdout",
     "output_type": "stream",
     "text": [
      "1*1=1\t\n",
      "1*2=2\t2*2=4\t\n",
      "1*3=3\t2*3=6\t3*3=9\t\n",
      "1*4=4\t2*4=8\t3*4=12\t4*4=16\t\n",
      "1*5=5\t2*5=10\t3*5=15\t4*5=20\t5*5=25\t\n",
      "1*6=6\t2*6=12\t3*6=18\t4*6=24\t5*6=30\t6*6=36\t\n",
      "1*7=7\t2*7=14\t3*7=21\t4*7=28\t5*7=35\t6*7=42\t7*7=49\t\n",
      "1*8=8\t2*8=16\t3*8=24\t4*8=32\t5*8=40\t6*8=48\t7*8=56\t8*8=64\t\n",
      "1*9=9\t2*9=18\t3*9=27\t4*9=36\t5*9=45\t6*9=54\t7*9=63\t8*9=72\t9*9=81\t\n"
     ]
    }
   ],
   "source": [
    "# 打印九九乘法表三角形\n",
    "for i in range(1, 10):\n",
    "    for j in range(1, i + 1):\n",
    "        print(j, '*', i, '=', i * j, sep='', end='\\t')\n",
    "    print()"
   ]
  },
  {
   "cell_type": "code",
   "execution_count": 128,
   "metadata": {},
   "outputs": [
    {
     "name": "stdout",
     "output_type": "stream",
     "text": [
      "1*1=1  \n",
      "1*2=2  2*2=4  \n",
      "1*3=3  2*3=6  3*3=9  \n",
      "1*4=4  2*4=8  3*4=12 4*4=16 \n",
      "1*5=5  2*5=10 3*5=15 4*5=20 5*5=25 \n",
      "1*6=6  2*6=12 3*6=18 4*6=24 5*6=30 6*6=36 \n",
      "1*7=7  2*7=14 3*7=21 4*7=28 5*7=35 6*7=42 7*7=49 \n",
      "1*8=8  2*8=16 3*8=24 4*8=32 5*8=40 6*8=48 7*8=56 8*8=64 \n",
      "1*9=9  2*9=18 3*9=27 4*9=36 5*9=45 6*9=54 7*9=63 8*9=72 9*9=81 \n"
     ]
    }
   ],
   "source": [
    "# 打印九九乘法表三角形\n",
    "# 考虑空格长度\n",
    "for i in range(1, 10):\n",
    "    for j in range(1, i + 1):\n",
    "        result = '{}*{}={:<2}'.format(j, i, i * j)\n",
    "        print(result, end=' ')\n",
    "    print()"
   ]
  },
  {
   "cell_type": "code",
   "execution_count": 119,
   "metadata": {},
   "outputs": [
    {
     "name": "stdout",
     "output_type": "stream",
     "text": [
      "1\t\n",
      "2\t4\t\n",
      "3\t6\t9\t\n",
      "4\t8\t12\t16\t\n",
      "5\t10\t15\t20\t25\t\n",
      "6\t12\t18\t24\t30\t36\t\n",
      "7\t14\t21\t28\t35\t42\t49\t\n",
      "8\t16\t24\t32\t40\t48\t56\t64\t\n",
      "9\t18\t27\t36\t45\t54\t63\t72\t81\t\n"
     ]
    }
   ],
   "source": [
    "# 打印九九乘法表三角形\n",
    "# 拼字符串法\n",
    "for i in range(1, 10):\n",
    "    result = ''\n",
    "    for j in range(1, i + 1):\n",
    "        result += str(j * i) + '\\t'\n",
    "    print(result)"
   ]
  },
  {
   "cell_type": "code",
   "execution_count": 129,
   "metadata": {},
   "outputs": [
    {
     "name": "stdout",
     "output_type": "stream",
     "text": [
      "1*1=1 \t1*2=2 \t1*3=3 \t1*4=4 \t1*5=5 \t1*6=6 \t1*7=7 \t1*8=8 \t1*9=9 \t\n",
      "      \t2*2=4 \t2*3=6 \t2*4=8 \t2*5=10\t2*6=12\t2*7=14\t2*8=16\t2*9=18\t\n",
      "      \t      \t3*3=9 \t3*4=12\t3*5=15\t3*6=18\t3*7=21\t3*8=24\t3*9=27\t\n",
      "      \t      \t      \t4*4=16\t4*5=20\t4*6=24\t4*7=28\t4*8=32\t4*9=36\t\n",
      "      \t      \t      \t      \t5*5=25\t5*6=30\t5*7=35\t5*8=40\t5*9=45\t\n",
      "      \t      \t      \t      \t      \t6*6=36\t6*7=42\t6*8=48\t6*9=54\t\n",
      "      \t      \t      \t      \t      \t      \t7*7=49\t7*8=56\t7*9=63\t\n",
      "      \t      \t      \t      \t      \t      \t      \t8*8=64\t8*9=72\t\n",
      "      \t      \t      \t      \t      \t      \t      \t      \t9*9=81\t\n"
     ]
    }
   ],
   "source": [
    "# 打印九九乘法表三角形（右上）\n",
    "# 法1\n",
    "for i in range(1, 10):\n",
    "    for j in range(1, 10):\n",
    "        if j < i:\n",
    "            print('      ', end='\\t')\n",
    "        else:\n",
    "            print('{}*{}={:<2}'.format(i, j, i * j), end='\\t')\n",
    "    print()"
   ]
  },
  {
   "cell_type": "code",
   "execution_count": 40,
   "metadata": {},
   "outputs": [
    {
     "name": "stdout",
     "output_type": "stream",
     "text": [
      "1*1=1   1*2=2   1*3=3   1*4=4   1*5=5   1*6=6   1*7=7   1*8=8   1*9=9   \n",
      "        2*2=4   2*3=6   2*4=8   2*5=10  2*6=12  2*7=14  2*8=16  2*9=18  \n",
      "                3*3=9   3*4=12  3*5=15  3*6=18  3*7=21  3*8=24  3*9=27  \n",
      "                        4*4=16  4*5=20  4*6=24  4*7=28  4*8=32  4*9=36  \n",
      "                                5*5=25  5*6=30  5*7=35  5*8=40  5*9=45  \n",
      "                                        6*6=36  6*7=42  6*8=48  6*9=54  \n",
      "                                                7*7=49  7*8=56  7*9=63  \n",
      "                                                        8*8=64  8*9=72  \n",
      "                                                                9*9=81  \n"
     ]
    }
   ],
   "source": [
    "# 打印九九乘法表三角形（右上）\n",
    "# 法2\n",
    "for i in range(1, 10):\n",
    "    result = ''\n",
    "    for j in range(i, 10):\n",
    "        if i * j < 10:\n",
    "            result += str(i) + '*' + str(j) + '=' + str(i * j) + ' ' + '  '\n",
    "        else:\n",
    "            result += str(i) + '*' + str(j) + '=' + str(i * j) + '  '\n",
    "#         if i == 1 and j == 9:\n",
    "#             length = len(result)\n",
    "#             print(length)\n",
    "    print('{:>72}'.format(result))"
   ]
  },
  {
   "cell_type": "code",
   "execution_count": 45,
   "metadata": {},
   "outputs": [
    {
     "name": "stdout",
     "output_type": "stream",
     "text": [
      "1*1=1  1*2=2  1*3=3  1*4=4   1*5=5   1*6=6   1*7=7   1*8=8   1*9=9   \n",
      "       2*2=4  2*3=6  2*4=8   2*5=10  2*6=12  2*7=14  2*8=16  2*9=18  \n",
      "              3*3=9  3*4=12  3*5=15  3*6=18  3*7=21  3*8=24  3*9=27  \n",
      "                     4*4=16  4*5=20  4*6=24  4*7=28  4*8=32  4*9=36  \n",
      "                             5*5=25  5*6=30  5*7=35  5*8=40  5*9=45  \n",
      "                                     6*6=36  6*7=42  6*8=48  6*9=54  \n",
      "                                             7*7=49  7*8=56  7*9=63  \n",
      "                                                     8*8=64  8*9=72  \n",
      "                                                             9*9=81  \n"
     ]
    }
   ],
   "source": [
    "# 打印九九乘法表三角形（右上）\n",
    "# 法3，优雅\n",
    "for i in range(1, 10):\n",
    "    s = ''\n",
    "    for j in range(i, 10):\n",
    "        s += '{}*{}={:<{}}'.format(i, j, i * j, 3 if j < 4 else 4)\n",
    "    print('{:>69}'.format(s))"
   ]
  },
  {
   "cell_type": "code",
   "execution_count": 169,
   "metadata": {},
   "outputs": [
    {
     "name": "stdout",
     "output_type": "stream",
     "text": [
      "   *\n",
      "  ***\n",
      " *****\n",
      "*******\n",
      " *****\n",
      "  ***\n",
      "   *\n"
     ]
    }
   ],
   "source": [
    "# 打印右侧菱形\n",
    "# 法1\n",
    "space = 0\n",
    "for i in range(7):\n",
    "    if i < 4:\n",
    "        space = 3 - i\n",
    "    else:\n",
    "        space = -(3 - i)\n",
    "    print(space * ' ' + (7 - 2 * space) * '*')"
   ]
  },
  {
   "cell_type": "code",
   "execution_count": 170,
   "metadata": {},
   "outputs": [
    {
     "name": "stdout",
     "output_type": "stream",
     "text": [
      "   *\n",
      "  ***\n",
      " *****\n",
      "*******\n",
      " *****\n",
      "  ***\n",
      "   *\n"
     ]
    }
   ],
   "source": [
    "# 打印右侧菱形\n",
    "# 法2\n",
    "for i in range(-3, 4):\n",
    "    if i < 0:\n",
    "        i = -i\n",
    "    print(' ' * i + '*' * (7 - 2 * i))"
   ]
  },
  {
   "cell_type": "code",
   "execution_count": 168,
   "metadata": {},
   "outputs": [
    {
     "name": "stdout",
     "output_type": "stream",
     "text": [
      "   *   \n",
      "  ***  \n",
      " ***** \n",
      "*******\n",
      " ***** \n",
      "  ***  \n",
      "   *   \n"
     ]
    }
   ],
   "source": [
    "# 打印右侧菱形\n",
    "# 法3\n",
    "for i in range(-3, 4):\n",
    "    if i < 0:\n",
    "        i = -i\n",
    "    a = (7 - 2 * i) * '*'\n",
    "    print('{:^7}'.format(a))"
   ]
  },
  {
   "cell_type": "code",
   "execution_count": 171,
   "metadata": {},
   "outputs": [
    {
     "name": "stdout",
     "output_type": "stream",
     "text": [
      "   *\n",
      "  ***\n",
      " *****\n",
      "*******\n",
      " *****\n",
      "  ***\n",
      "   *\n"
     ]
    }
   ],
   "source": [
    "# 打印右侧菱形\n",
    "# 法4，使用绝对值函数\n",
    "for i in range(-3, 4):\n",
    "    print(' ' * abs(i) + '*' * (7 - 2 * abs(i)))"
   ]
  },
  {
   "cell_type": "code",
   "execution_count": 173,
   "metadata": {},
   "outputs": [
    {
     "name": "stdout",
     "output_type": "stream",
     "text": [
      "*******\n",
      " *****\n",
      "  ***\n",
      "   *\n",
      "  ***\n",
      " *****\n",
      "*******\n"
     ]
    }
   ],
   "source": [
    "# 打印对顶三角形\n",
    "for i in range(-3, 4):\n",
    "    if i < 0:\n",
    "        i = -i\n",
    "    print(' ' * (3 - i) + '*' * (7 - 2 * (3 - i)))"
   ]
  },
  {
   "cell_type": "code",
   "execution_count": 193,
   "metadata": {},
   "outputs": [
    {
     "name": "stdout",
     "output_type": "stream",
     "text": [
      "   *\n",
      "  **\n",
      " ***\n",
      "*******\n",
      "   ***\n",
      "   **\n",
      "   *\n"
     ]
    }
   ],
   "source": [
    "# 打印闪电\n",
    "for i in range(-3, 4):\n",
    "    if i < 0:\n",
    "        print(' ' * -i + '*' * (4 + i))\n",
    "    elif i == 0:\n",
    "        print('*' * 7)\n",
    "    else:\n",
    "        print(' ' * 3 + '*' * (4- i))"
   ]
  },
  {
   "cell_type": "code",
   "execution_count": 204,
   "metadata": {
    "scrolled": true
   },
   "outputs": [
    {
     "name": "stdout",
     "output_type": "stream",
     "text": [
      "0 1 1 2 3 5 8 13 21 34 55 89 "
     ]
    }
   ],
   "source": [
    "# 打印100以内的斐波那契数列\n",
    "# 法1\n",
    "first = 0\n",
    "second = 1\n",
    "print('{}'.format(first), end = ' ')\n",
    "while second <= 100:\n",
    "    print(second,end=' ')\n",
    "    next = first + second\n",
    "    first = second\n",
    "    second = next"
   ]
  },
  {
   "cell_type": "code",
   "execution_count": 202,
   "metadata": {},
   "outputs": [
    {
     "name": "stdout",
     "output_type": "stream",
     "text": [
      "0 1 1 2 3 5 8 13 21 34 55 89 "
     ]
    }
   ],
   "source": [
    "# 打印100以内的斐波那契数列\n",
    "# 法2，利用封装和结构\n",
    "first = 0\n",
    "second = 1\n",
    "print(first, end=' ')\n",
    "while second <= 100:\n",
    "    print(second, end=' ')\n",
    "    first, second = second, first + second"
   ]
  },
  {
   "cell_type": "code",
   "execution_count": 209,
   "metadata": {},
   "outputs": [
    {
     "name": "stdout",
     "output_type": "stream",
     "text": [
      "573147844013817084101\n"
     ]
    }
   ],
   "source": [
    "# 求斐波那契数列第101项，0不算\n",
    "first = 1\n",
    "second = 1\n",
    "for i in range(99):\n",
    "    next = first + second\n",
    "    first = second\n",
    "    second = next\n",
    "print(next)"
   ]
  },
  {
   "cell_type": "code",
   "execution_count": 20,
   "metadata": {},
   "outputs": [
    {
     "name": "stdout",
     "output_type": "stream",
     "text": [
      "\n",
      "Total: 9592\n",
      "Total compute: 455189149\n",
      "Total seconds: 89.626586\n"
     ]
    }
   ],
   "source": [
    "# 求10万内的所有素数 100000 (9592个)\n",
    "# 法1\n",
    "import datetime\n",
    "count = 0\n",
    "sum = 0\n",
    "start = datetime.datetime.now()\n",
    "for i in range(2, 100000):\n",
    "    for j in range(2, i):\n",
    "        sum += 1\n",
    "        if not i % j:\n",
    "            break\n",
    "    else:\n",
    "#         print(i, end = ' ')\n",
    "        count += 1\n",
    "delta = (datetime.datetime.now() - start).total_seconds()\n",
    "print('\\nTotal: {}\\nTotal compute: {}\\nTotal seconds: {}'.format(count, sum, delta))"
   ]
  },
  {
   "cell_type": "code",
   "execution_count": 65,
   "metadata": {},
   "outputs": [
    {
     "name": "stdout",
     "output_type": "stream",
     "text": [
      "\n",
      "Total: 9592\n",
      "Total compute: 1328776\n",
      "Total seconds: 0.261859\n"
     ]
    }
   ],
   "source": [
    "# 求10万内的所有素数 100000 (9592个)\n",
    "# 法2，大于等于5的质数一定和6的倍数相邻\n",
    "import datetime\n",
    "# print('2 3 ', end='')\n",
    "count = 2\n",
    "sum = 0\n",
    "start = datetime.datetime.now()\n",
    "for i in range(5, 100000, 6):\n",
    "    left = i\n",
    "    right = i + 2\n",
    "    for j in range(3, int(left ** 0.5) + 1, 2):\n",
    "        sum += 1\n",
    "        if left % j == 0:\n",
    "            break\n",
    "    else:\n",
    "#         print(left, end=' ')\n",
    "        count += 1\n",
    "    for k in range(3, int(right ** 0.5) + 1, 2):\n",
    "        sum += 1\n",
    "        if right % k == 0:\n",
    "            break\n",
    "    else:\n",
    "#         print(right, end=' ')\n",
    "        count += 1\n",
    "delta = (datetime.datetime.now() - start).total_seconds()\n",
    "print('\\nTotal: {}\\nTotal compute: {}\\nTotal seconds: {}'.format(count, sum, delta))"
   ]
  },
  {
   "cell_type": "code",
   "execution_count": 63,
   "metadata": {},
   "outputs": [
    {
     "name": "stdout",
     "output_type": "stream",
     "text": [
      "2 \n",
      "Total: 9592\n",
      "Total compute: 1328777\n",
      "Total seconds: 0.268218\n"
     ]
    }
   ],
   "source": [
    "# 求10万内的所有素数 100000 (9592个)\n",
    "# 法3，抛去偶数并使用开方，且大于10的个位为5的一定不是\n",
    "import datetime\n",
    "count = 1\n",
    "sum = 0 # 计算一共算了多少次\n",
    "print(2, end=' ')\n",
    "start = datetime.datetime.now()\n",
    "for i in range(3, 100000, 2):\n",
    "    if i > 10 and i % 10 == 5:\n",
    "        continue\n",
    "    # 从3开始是因为，奇数除2肯定余数不为0\n",
    "    # 步长为2是因为，奇数除偶数肯定余数也不为0\n",
    "    for j in range(3, int(i ** 0.5) + 1, 2):\n",
    "        sum += 1\n",
    "        if i % j == 0:\n",
    "            break\n",
    "    else:\n",
    "#         print(i, end=' ')\n",
    "        count += 1\n",
    "#         pass\n",
    "delta = (datetime.datetime.now() - start).total_seconds()\n",
    "print('\\nTotal: {}\\nTotal compute: {}\\nTotal seconds: {}'.format(count, sum, delta))"
   ]
  },
  {
   "cell_type": "code",
   "execution_count": null,
   "metadata": {},
   "outputs": [],
   "source": [
    "# 请输入若干个数，打印出最大值\n",
    "max = 0\n",
    "while True:\n",
    "    num = input()\n",
    "    if not num:\n",
    "        break\n",
    "    # 如果不加这个判断条件，会引入用户没有输入的数值\n",
    "    # 例如输入 -1,-2,-3,会输出最大值为 0\n",
    "    if not max:\n",
    "        max = int(num)\n",
    "    elif int(num) > max:\n",
    "        max = int(num)\n",
    "print(max) "
   ]
  },
  {
   "cell_type": "code",
   "execution_count": 113,
   "metadata": {},
   "outputs": [
    {
     "name": "stdout",
     "output_type": "stream",
     "text": [
      ">>> 1\n",
      "Ave: 1.0\n",
      ">>> 2\n",
      "Ave: 1.5\n",
      ">>> 3\n",
      "Ave: 2.0\n",
      ">>> 4\n",
      "Ave: 2.5\n",
      ">>> 5\n",
      "Ave: 3.0\n",
      ">>> \n"
     ]
    }
   ],
   "source": [
    "# 输入n个数，求每次输入后的算术平均数\n",
    "sum = 0\n",
    "count = 0\n",
    "while True:\n",
    "    n = input('>>> ')\n",
    "    if n:\n",
    "        sum += int(n)\n",
    "        count += 1\n",
    "        print('Ave:', sum / count)\n",
    "    else:\n",
    "        break"
   ]
  },
  {
   "cell_type": "code",
   "execution_count": 66,
   "metadata": {},
   "outputs": [
    {
     "name": "stdout",
     "output_type": "stream",
     "text": [
      "First day: 1534\n"
     ]
    }
   ],
   "source": [
    "# 猴子吃桃问题\n",
    "# 法1\n",
    "n = 1\n",
    "for i in range(9):\n",
    "    n = 2 * (n + 1)\n",
    "print('First day:', n)"
   ]
  },
  {
   "cell_type": "code",
   "execution_count": null,
   "metadata": {},
   "outputs": [],
   "source": [
    " "
   ]
  },
  {
   "cell_type": "code",
   "execution_count": null,
   "metadata": {},
   "outputs": [],
   "source": []
  },
  {
   "cell_type": "code",
   "execution_count": null,
   "metadata": {},
   "outputs": [],
   "source": []
  },
  {
   "cell_type": "code",
   "execution_count": null,
   "metadata": {},
   "outputs": [],
   "source": []
  },
  {
   "cell_type": "code",
   "execution_count": null,
   "metadata": {},
   "outputs": [],
   "source": []
  },
  {
   "cell_type": "code",
   "execution_count": null,
   "metadata": {},
   "outputs": [],
   "source": []
  },
  {
   "cell_type": "code",
   "execution_count": null,
   "metadata": {},
   "outputs": [],
   "source": []
  },
  {
   "cell_type": "code",
   "execution_count": null,
   "metadata": {},
   "outputs": [],
   "source": []
  },
  {
   "cell_type": "code",
   "execution_count": null,
   "metadata": {},
   "outputs": [],
   "source": []
  },
  {
   "cell_type": "code",
   "execution_count": null,
   "metadata": {},
   "outputs": [],
   "source": [
    " "
   ]
  }
 ],
 "metadata": {
  "kernelspec": {
   "display_name": "Python 3",
   "language": "python",
   "name": "python3"
  },
  "language_info": {
   "codemirror_mode": {
    "name": "ipython",
    "version": 3
   },
   "file_extension": ".py",
   "mimetype": "text/x-python",
   "name": "python",
   "nbconvert_exporter": "python",
   "pygments_lexer": "ipython3",
   "version": "3.7.4"
  }
 },
 "nbformat": 4,
 "nbformat_minor": 2
}
