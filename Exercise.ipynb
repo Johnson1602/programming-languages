{
 "cells": [
  {
   "cell_type": "code",
   "execution_count": null,
   "metadata": {},
   "outputs": [],
   "source": [
    "# 输入2个数字，输出最大数\n",
    "a, b = input('>>> ').split()\n",
    "if a > b:\n",
    "    print(a)\n",
    "elif a < b:\n",
    "    print(b)\n",
    "else:\n",
    "    print('Equal')"
   ]
  },
  {
   "cell_type": "code",
   "execution_count": null,
   "metadata": {},
   "outputs": [],
   "source": [
    "# 给定一个不超过5位的正整数，判断其有几位\n",
    "# 引入了不必要的计算，没有下一种好\n",
    "a = int(input('>>> '))\n",
    "if a // 10000:\n",
    "    print(5)\n",
    "elif a // 1000:\n",
    "    print(4)\n",
    "elif a // 100:\n",
    "    print(3)\n",
    "elif a // 10:\n",
    "    print(2)\n",
    "else:\n",
    "    print(1)"
   ]
  },
  {
   "cell_type": "code",
   "execution_count": null,
   "metadata": {},
   "outputs": [],
   "source": [
    "# 给定一个不超过5位的正整数，判断其有几位\n",
    "a = int(input('>>> '))\n",
    "if a < 10:\n",
    "    print(1)\n",
    "elif a < 100:\n",
    "    print(2)\n",
    "elif a < 1000:\n",
    "    print(3)\n",
    "elif a < 10000:\n",
    "    print(4)\n",
    "else:\n",
    "    print(5)"
   ]
  },
  {
   "cell_type": "code",
   "execution_count": null,
   "metadata": {},
   "outputs": [],
   "source": [
    "# 给定一个不超过5位的正整数，判断其有几位\n",
    "a = input('>>> ')\n",
    "l = len(a)\n",
    "print(l)"
   ]
  },
  {
   "cell_type": "code",
   "execution_count": null,
   "metadata": {},
   "outputs": [],
   "source": [
    "# 给定一个不超过5位的正整数，判断其有几位\n",
    "a = int(input('>>> '))\n",
    "if a >= 100:\n",
    "    if a >= 10000:\n",
    "        print(5)\n",
    "    elif a >= 1000:\n",
    "        print(4)\n",
    "else:\n",
    "    if a >= 10:\n",
    "        print(2)\n",
    "    else:\n",
    "        print(1)"
   ]
  },
  {
   "cell_type": "code",
   "execution_count": null,
   "metadata": {},
   "outputs": [],
   "source": [
    "flag = 10\n",
    "while flag:\n",
    "    print(flag)\n",
    "    flag -= 1"
   ]
  },
  {
   "cell_type": "code",
   "execution_count": null,
   "metadata": {},
   "outputs": [],
   "source": [
    "for i in range(10):\n",
    "    if i % 2:\n",
    "        continue\n",
    "    print(i)"
   ]
  },
  {
   "cell_type": "code",
   "execution_count": null,
   "metadata": {},
   "outputs": [],
   "source": [
    "# 给定一个不超过5位的正整数，判断该数的位数，依次打印出个位、十位、百位、千位、万位的数字\n",
    "# 法1\n",
    "a = int(input('>>> '))\n",
    "\n",
    "if a >= 1000:\n",
    "    if a >= 10000:\n",
    "        print(5)\n",
    "    else:\n",
    "        print(4)\n",
    "else:\n",
    "    if a >= 100:\n",
    "        print(3)\n",
    "    elif a >= 10:\n",
    "        print(2)\n",
    "    else:\n",
    "        print(1)\n",
    "\n",
    "wan = a // 10000\n",
    "qian = (a - wan * 10000) // 1000\n",
    "bai = (a - wan * 10000 - qian * 1000) // 100\n",
    "shi = (a - wan * 10000 - qian * 1000 - bai * 100) // 10\n",
    "ge = a - wan * 10000 - qian * 1000 - bai * 100 - shi * 10\n",
    "\n",
    "print(ge, shi, bai, qian, wan)"
   ]
  },
  {
   "cell_type": "code",
   "execution_count": null,
   "metadata": {},
   "outputs": [],
   "source": [
    "# 给定一个不超过5位的正整数，判断该数的位数，依次打印出个位、十位、百位、千位、万位的数字\n",
    "# 法2\n",
    "\n",
    "a = int(input('>>> '))\n",
    "\n",
    "if a >= 1000:\n",
    "    if a >= 10000:\n",
    "        num = 5\n",
    "    else:\n",
    "        num = 4\n",
    "else:\n",
    "    if a >= 100:\n",
    "        num = 3\n",
    "    elif a >= 10:\n",
    "        num = 2\n",
    "    else:\n",
    "        num = 1\n",
    "\n",
    "print(num)\n",
    "\n",
    "temp = a\n",
    "for i in range(num):\n",
    "    rest = temp // 10\n",
    "    print(temp - rest * 10)\n",
    "    temp = rest\n",
    "    "
   ]
  },
  {
   "cell_type": "code",
   "execution_count": null,
   "metadata": {},
   "outputs": [],
   "source": [
    "# 给定一个不超过5位的正整数，判断该数的位数，依次打印出个位、十位、百位、千位、万位的数字\n",
    "# 法3\n",
    "\n",
    "a = int(input('>>> '))\n",
    "\n",
    "if a >= 1000:\n",
    "    if a >= 10000:\n",
    "        num = 5\n",
    "    else:\n",
    "        num = 4\n",
    "else:\n",
    "    if a >= 100:\n",
    "        num = 3\n",
    "    elif a >= 10:\n",
    "        num = 2\n",
    "    else:\n",
    "        num = 1\n",
    "\n",
    "print(num)\n",
    "\n",
    "temp = a\n",
    "for i in range(num):\n",
    "    print(temp % 10)\n",
    "    temp //= 10\n"
   ]
  },
  {
   "cell_type": "code",
   "execution_count": null,
   "metadata": {},
   "outputs": [],
   "source": [
    "# 给定一个不超过5位的正整数，判断该数的位数，依次打印出个位、十位、百位、千位、万位的数字\n",
    "# 从万位打到个位\n",
    "\n",
    "a = int(input('>>> '))\n",
    "\n",
    "if a >= 1000:\n",
    "    if a >= 10000:\n",
    "        num = 5\n",
    "    else:\n",
    "        num = 4\n",
    "else:\n",
    "    if a >= 100:\n",
    "        num = 3\n",
    "    elif a >= 10:\n",
    "        num = 2\n",
    "    else:\n",
    "        num = 1\n",
    "\n",
    "print(num)\n",
    "\n",
    "temp = a\n",
    "for i in range(num):\n",
    "    print(temp // 10 ** (num - 1 - i))\n",
    "    temp %= 10 ** (num - 1 - i)"
   ]
  },
  {
   "cell_type": "code",
   "execution_count": null,
   "metadata": {},
   "outputs": [],
   "source": []
  },
  {
   "cell_type": "code",
   "execution_count": null,
   "metadata": {},
   "outputs": [],
   "source": []
  },
  {
   "cell_type": "code",
   "execution_count": null,
   "metadata": {},
   "outputs": [],
   "source": []
  },
  {
   "cell_type": "code",
   "execution_count": null,
   "metadata": {},
   "outputs": [],
   "source": []
  },
  {
   "cell_type": "code",
   "execution_count": null,
   "metadata": {},
   "outputs": [],
   "source": [
    "\n"
   ]
  },
  {
   "cell_type": "code",
   "execution_count": null,
   "metadata": {},
   "outputs": [],
   "source": []
  }
 ],
 "metadata": {
  "kernelspec": {
   "display_name": "Python 3",
   "language": "python",
   "name": "python3"
  },
  "language_info": {
   "codemirror_mode": {
    "name": "ipython",
    "version": 3
   },
   "file_extension": ".py",
   "mimetype": "text/x-python",
   "name": "python",
   "nbconvert_exporter": "python",
   "pygments_lexer": "ipython3",
   "version": "3.7.4"
  }
 },
 "nbformat": 4,
 "nbformat_minor": 2
}
