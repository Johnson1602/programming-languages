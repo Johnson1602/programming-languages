{
 "cells": [
  {
   "cell_type": "code",
   "execution_count": null,
   "metadata": {},
   "outputs": [],
   "source": [
    "# 打印右侧菱形\n",
    "# 法1\n",
    "space = 0\n",
    "for i in range(7):\n",
    "    if i < 4:\n",
    "        space = 3 - i\n",
    "    else:\n",
    "        space = -(3 - i)\n",
    "    print(space * ' ' + (7 - 2 * space) * '*')"
   ]
  },
  {
   "cell_type": "code",
   "execution_count": null,
   "metadata": {},
   "outputs": [],
   "source": [
    "# 打印右侧菱形\n",
    "# 法2\n",
    "for i in range(-3, 4):\n",
    "    if i < 0:\n",
    "        i = -i\n",
    "    print(' ' * i + '*' * (7 - 2 * i))"
   ]
  },
  {
   "cell_type": "code",
   "execution_count": null,
   "metadata": {},
   "outputs": [],
   "source": [
    "# 打印右侧菱形\n",
    "# 法3\n",
    "for i in range(-3, 4):\n",
    "    if i < 0:\n",
    "        i = -i\n",
    "    a = (7 - 2 * i) * '*'\n",
    "    print('{:^7}'.format(a))"
   ]
  },
  {
   "cell_type": "code",
   "execution_count": null,
   "metadata": {},
   "outputs": [],
   "source": [
    "# 打印右侧菱形\n",
    "# 法4，使用绝对值函数\n",
    "for i in range(-3, 4):\n",
    "    print(' ' * abs(i) + '*' * (7 - 2 * abs(i)))"
   ]
  },
  {
   "cell_type": "code",
   "execution_count": null,
   "metadata": {},
   "outputs": [],
   "source": [
    "# 打印对顶三角形\n",
    "for i in range(-3, 4):\n",
    "    if i < 0:\n",
    "        i = -i\n",
    "    print(' ' * (3 - i) + '*' * (7 - 2 * (3 - i)))"
   ]
  },
  {
   "cell_type": "code",
   "execution_count": null,
   "metadata": {},
   "outputs": [],
   "source": [
    "# 打印闪电\n",
    "for i in range(-3, 4):\n",
    "    if i < 0:\n",
    "        print(' ' * -i + '*' * (4 + i))\n",
    "    elif i == 0:\n",
    "        print('*' * 7)\n",
    "    else:\n",
    "        print(' ' * 3 + '*' * (4- i))"
   ]
  }
 ],
 "metadata": {
  "kernelspec": {
   "display_name": "Python 3",
   "language": "python",
   "name": "python3"
  },
  "language_info": {
   "codemirror_mode": {
    "name": "ipython",
    "version": 3
   },
   "file_extension": ".py",
   "mimetype": "text/x-python",
   "name": "python",
   "nbconvert_exporter": "python",
   "pygments_lexer": "ipython3",
   "version": "3.7.4"
  }
 },
 "nbformat": 4,
 "nbformat_minor": 2
}
