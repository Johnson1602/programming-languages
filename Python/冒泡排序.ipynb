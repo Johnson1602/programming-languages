{
 "cells": [
  {
   "cell_type": "markdown",
   "metadata": {},
   "source": [
    "# 依次接收用户输入的三个数，排序后打印"
   ]
  },
  {
   "cell_type": "code",
   "execution_count": 3,
   "metadata": {},
   "outputs": [
    {
     "name": "stdout",
     "output_type": "stream",
     "text": [
      ">>> 19\n",
      ">>> 12\n",
      ">>> 13\n",
      "12 13 19\n"
     ]
    }
   ],
   "source": [
    "# 1 转换 int 后，判断大小排序，使用分支结构完成\n",
    "a = int(input('>>> '))\n",
    "b = int(input('>>> '))\n",
    "c = int(input('>>> '))\n",
    "if a >= b:\n",
    "    if b >= c:\n",
    "        print(c, b, a)\n",
    "    else:\n",
    "        if a >= c:\n",
    "            print(b, c, a)\n",
    "        else:\n",
    "            print(b, a, c)\n",
    "else:\n",
    "    if a >= c:\n",
    "        print(c, a, b)\n",
    "    else:\n",
    "        if b >= c:\n",
    "            print(a, c, b)\n",
    "        else:\n",
    "            print(a, b, c)"
   ]
  },
  {
   "cell_type": "code",
   "execution_count": 15,
   "metadata": {
    "scrolled": true
   },
   "outputs": [
    {
     "name": "stdout",
     "output_type": "stream",
     "text": [
      ">>> 19\n",
      ">>> 12\n",
      ">>> 13\n",
      "12 13 19 "
     ]
    }
   ],
   "source": [
    "# 2 使用 max 函数\n",
    "lst = []\n",
    "result = []\n",
    "for i in range(3):\n",
    "    lst.append(int(input('>>> ')))\n",
    "for j in range(2):\n",
    "    max_num = max(lst)\n",
    "    result.append(max_num)\n",
    "    lst.remove(max_num)\n",
    "result.append(lst[0])\n",
    "for k in range(1, 4):\n",
    "    print(result[-k], end=' ')"
   ]
  },
  {
   "cell_type": "code",
   "execution_count": 9,
   "metadata": {},
   "outputs": [
    {
     "name": "stdout",
     "output_type": "stream",
     "text": [
      ">>> 19\n",
      ">>> 12\n",
      ">>> 13\n",
      "12 13 19 "
     ]
    }
   ],
   "source": [
    "# 3 使用列表的 sort 方法\n",
    "lst = []\n",
    "for i in range(3):\n",
    "    lst.append(int(input('>>> ')))\n",
    "lst.sort(key=int)\n",
    "for j in lst:\n",
    "    print(j, end=' ')"
   ]
  },
  {
   "cell_type": "code",
   "execution_count": 24,
   "metadata": {},
   "outputs": [
    {
     "name": "stdout",
     "output_type": "stream",
     "text": [
      "[1, 2, 3, 4, 5, 6, 7, 8, 9]\n",
      "36\n",
      "1\n"
     ]
    }
   ],
   "source": [
    "# 4 - 1 冒泡法\n",
    "lsts = [[1, 9, 8, 5, 6, 7, 4, 3, 2], [1, 2, 3, 4, 5, 6, 7, 9, 8]]\n",
    "lst = lsts[1]\n",
    "count = 0\n",
    "count_swap = 0\n",
    "for i in range(8):\n",
    "    for j in range(8 - i):\n",
    "        count += 1\n",
    "        if lst[j] > lst[j + 1]:\n",
    "            # 右边先全部算完，再赋值给左边（赋值表达式都是右边先算完再赋值给左边）\n",
    "            lst[j], lst[j + 1] = lst[j + 1], lst[j]\n",
    "            count_swap += 1\n",
    "print(lst, count, count_swap, sep='\\n')"
   ]
  },
  {
   "cell_type": "code",
   "execution_count": 25,
   "metadata": {},
   "outputs": [
    {
     "name": "stdout",
     "output_type": "stream",
     "text": [
      "[1, 2, 3, 4, 5, 6, 7, 8, 9]\n",
      "15\n",
      "1\n"
     ]
    }
   ],
   "source": [
    "# 4 - 2 冒泡法优化：一旦某一趟循环中没有任何交换，则说明已经排序好\n",
    "lsts = [[1, 9, 8, 5, 6, 7, 4, 3, 2], [1, 2, 3, 4, 5, 6, 7, 9, 8]]\n",
    "lst = lsts[1]\n",
    "count = 0\n",
    "count_swap = 0\n",
    "for i in range(8):\n",
    "    flag = False\n",
    "    for j in range(8 - i):\n",
    "        count += 1\n",
    "        if lst[j] > lst[j + 1]:\n",
    "            lst[j], lst[j + 1] = lst[j + 1], lst[j]\n",
    "            count_swap += 1\n",
    "            flag = True\n",
    "    if flag == False:\n",
    "        break\n",
    "print(lst, count, count_swap, sep='\\n')"
   ]
  }
 ],
 "metadata": {
  "kernelspec": {
   "display_name": "Python 3",
   "language": "python",
   "name": "python3"
  },
  "language_info": {
   "codemirror_mode": {
    "name": "ipython",
    "version": 3
   },
   "file_extension": ".py",
   "mimetype": "text/x-python",
   "name": "python",
   "nbconvert_exporter": "python",
   "pygments_lexer": "ipython3",
   "version": "3.7.4"
  }
 },
 "nbformat": 4,
 "nbformat_minor": 2
}
