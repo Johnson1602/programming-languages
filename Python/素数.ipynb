{
 "cells": [
  {
   "cell_type": "code",
   "execution_count": null,
   "metadata": {},
   "outputs": [],
   "source": [
    "# 给一个数，判断它是否是素数(质数)\n",
    "# 法1\n",
    "num = int(input('>>> '))\n",
    "for i in range(2, num):\n",
    "    if not num % i:\n",
    "        print('NO')\n",
    "        break\n",
    "else:\n",
    "    print('YES')"
   ]
  },
  {
   "cell_type": "code",
   "execution_count": null,
   "metadata": {},
   "outputs": [],
   "source": [
    "# 给一个数，判断它是否是素数(质数)\n",
    "# 法2，优化为开方\n",
    "num = int(input('>>> '))\n",
    "for i in range(2, int(num ** 0.5) + 1):\n",
    "    if not num % i:\n",
    "        print('NO')\n",
    "        break\n",
    "else:\n",
    "    print('YES')"
   ]
  },
  {
   "cell_type": "code",
   "execution_count": null,
   "metadata": {},
   "outputs": [],
   "source": [
    "# 求10万内的所有素数 100000 (9592个)\n",
    "# 法1\n",
    "import datetime\n",
    "count = 0\n",
    "sum = 0\n",
    "start = datetime.datetime.now()\n",
    "for i in range(2, 100000):\n",
    "    for j in range(2, i):\n",
    "        sum += 1\n",
    "        if not i % j:\n",
    "            break\n",
    "    else:\n",
    "#         print(i, end = ' ')\n",
    "        count += 1\n",
    "delta = (datetime.datetime.now() - start).total_seconds()\n",
    "print('\\nTotal: {}\\nTotal compute: {}\\nTotal seconds: {}'.format(count, sum, delta))"
   ]
  },
  {
   "cell_type": "code",
   "execution_count": null,
   "metadata": {},
   "outputs": [],
   "source": [
    "# 求10万内的所有素数 100000 (9592个)\n",
    "# 法2，大于等于5的质数一定和6的倍数相邻\n",
    "import datetime\n",
    "# print('2 3 ', end='')\n",
    "count = 2\n",
    "sum = 0\n",
    "start = datetime.datetime.now()\n",
    "for i in range(5, 100000, 6):\n",
    "    left = i\n",
    "    right = i + 2\n",
    "    for j in range(3, int(left ** 0.5) + 1, 2):\n",
    "        sum += 1\n",
    "        if left % j == 0:\n",
    "            break\n",
    "    else:\n",
    "#         print(left, end=' ')\n",
    "        count += 1\n",
    "    for k in range(3, int(right ** 0.5) + 1, 2):\n",
    "        sum += 1\n",
    "        if right % k == 0:\n",
    "            break\n",
    "    else:\n",
    "#         print(right, end=' ')\n",
    "        count += 1\n",
    "delta = (datetime.datetime.now() - start).total_seconds()\n",
    "print('\\nTotal: {}\\nTotal compute: {}\\nTotal seconds: {}'.format(count, sum, delta))"
   ]
  },
  {
   "cell_type": "code",
   "execution_count": null,
   "metadata": {},
   "outputs": [],
   "source": [
    "# 求10万内的所有素数 100000 (9592个)\n",
    "# 法3，抛去偶数并使用开方，且大于10的个位为5的一定不是\n",
    "import datetime\n",
    "count = 1\n",
    "sum = 0 # 计算一共算了多少次\n",
    "print(2, end=' ')\n",
    "start = datetime.datetime.now()\n",
    "for i in range(3, 100000, 2):\n",
    "    if i > 10 and i % 10 == 5:\n",
    "        continue\n",
    "    # 从3开始是因为，奇数除2肯定余数不为0\n",
    "    # 步长为2是因为，奇数除偶数肯定余数也不为0\n",
    "    for j in range(3, int(i ** 0.5) + 1, 2):\n",
    "        sum += 1\n",
    "        if i % j == 0:\n",
    "            break\n",
    "    else:\n",
    "#         print(i, end=' ')\n",
    "        count += 1\n",
    "#         pass\n",
    "delta = (datetime.datetime.now() - start).total_seconds()\n",
    "print('\\nTotal: {}\\nTotal compute: {}\\nTotal seconds: {}'.format(count, sum, delta))"
   ]
  },
  {
   "cell_type": "code",
   "execution_count": null,
   "metadata": {},
   "outputs": [],
   "source": [
    "# 求10万内的所有素数 100000 (9592个)\n",
    "# 法4，任何合数都可以分解为若干素数的乘积，并利用6左右性质，并利用*5肯定不是\n",
    "from datetime import datetime\n",
    "count = 0\n",
    "i = 5\n",
    "step = 2\n",
    "prime = [2, 3, 5]\n",
    "start = datetime.now()\n",
    "while i < 100000:\n",
    "#     flag = False\n",
    "    if i % 10 == 5:\n",
    "        i += step\n",
    "        step = 4 if step == 2 else 2\n",
    "        continue\n",
    "    end = int(i ** 0.5) + 1\n",
    "    for j in prime:\n",
    "        count += 1\n",
    "        if j > end: # 是素数\n",
    "#             flag = True\n",
    "            prime.append(i)\n",
    "            break\n",
    "        if i % j == 0: # 不是素数\n",
    "            break\n",
    "#     if flag:\n",
    "#         prime.append(i)\n",
    "    i += step\n",
    "    step = 4 if step == 2 else 2\n",
    "delta = (datetime.now() - start).total_seconds()\n",
    "print('Total: {}\\nTotal compute: {}\\nTotal seconds: {}'.format(len(prime), count, delta))"
   ]
  },
  {
   "cell_type": "code",
   "execution_count": null,
   "metadata": {},
   "outputs": [],
   "source": [
    "from datetime import datetime\n",
    "prime = [2]\n",
    "start = datetime.now()\n",
    "for i in range(3, 100000, 2):\n",
    "    end = int(i ** 0.5) + 1\n",
    "    for j in prime:\n",
    "        if i % j == 0:\n",
    "            break\n",
    "        if j >= end:\n",
    "            prime.append(i)\n",
    "            break\n",
    "delta = (datetime.now() - start).total_seconds()\n",
    "print(len(prime), delta, sep='\\n')"
   ]
  }
 ],
 "metadata": {
  "kernelspec": {
   "display_name": "Python 3",
   "language": "python",
   "name": "python3"
  },
  "language_info": {
   "codemirror_mode": {
    "name": "ipython",
    "version": 3
   },
   "file_extension": ".py",
   "mimetype": "text/x-python",
   "name": "python",
   "nbconvert_exporter": "python",
   "pygments_lexer": "ipython3",
   "version": "3.7.4"
  }
 },
 "nbformat": 4,
 "nbformat_minor": 2
}
