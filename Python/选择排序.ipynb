{
 "cells": [
  {
   "cell_type": "code",
   "execution_count": 21,
   "metadata": {},
   "outputs": [
    {
     "name": "stdout",
     "output_type": "stream",
     "text": [
      "[1, 9, 8, 5, 6, 7, 4, 3, 2]\n",
      "[9, 8, 7, 6, 5, 4, 3, 2, 1]\n",
      "iter: 36, swap: 7\n"
     ]
    }
   ],
   "source": [
    "# 简单选择排序\n",
    "lst = [1, 9, 8, 5, 6, 7, 4, 3, 2]\n",
    "print(lst)\n",
    "length = len(lst)\n",
    "count_iter = 0\n",
    "count_swap = 0\n",
    "for i in range(length - 1):\n",
    "    m = i\n",
    "    for j in range(i + 1, length):\n",
    "        count_iter += 1\n",
    "        if lst[j] > lst[m]:\n",
    "            m = j\n",
    "    if m != i:\n",
    "        count_swap += 1\n",
    "        lst[i], lst[m] = lst[m], lst[i]\n",
    "print(lst)\n",
    "print('iter: {}, swap: {}'.format(count_iter, count_swap))"
   ]
  },
  {
   "cell_type": "code",
   "execution_count": 31,
   "metadata": {},
   "outputs": [
    {
     "name": "stdout",
     "output_type": "stream",
     "text": [
      "[1, 1, 1, 1, 1, 1, 1, 1, 3]\n",
      "[3, 1, 1, 1, 1, 1, 1, 1, 1]\n",
      "iter: 20, swap: 2\n"
     ]
    }
   ],
   "source": [
    "# 优化，使用二元选择排序\n",
    "# 一趟中同时找到最大值和最小值\n",
    "# lst = [1, 9, 8, 5, 6, 7, 4, 3, 2]\n",
    "lst = [1, 1, 1, 1, 1, 1, 1, 1, 3]\n",
    "print(lst)\n",
    "length = len(lst)\n",
    "count_iter = 0\n",
    "count_swap = 0\n",
    "for i in range(length // 2):\n",
    "    maxindex = i\n",
    "    minindex = -i - 1\n",
    "    for j in range(i + 1, length - i):\n",
    "        count_iter += 1\n",
    "        if lst[j] > lst[maxindex]:\n",
    "            maxindex = j\n",
    "        if lst[-j - 1] < lst[minindex]:\n",
    "            minindex = -j - 1\n",
    "    if i != maxindex:\n",
    "        count_swap += 1\n",
    "        lst[maxindex], lst[i] = lst[i], lst[maxindex]\n",
    "        # 交换最大值的时候可能会影响最小值，所以要判断\n",
    "        if i == length + minindex:\n",
    "            minindex = maxindex\n",
    "    if -i - 1 != minindex:\n",
    "        count_swap += 1\n",
    "        lst[minindex], lst[-i - 1] = lst[-i - 1], lst[minindex]\n",
    "#     print('max: ', maxindex)\n",
    "#     print('min: ', minindex)\n",
    "#     print(lst)\n",
    "print(lst)\n",
    "print('iter: {}, swap: {}'.format(count_iter, count_swap))"
   ]
  },
  {
   "cell_type": "code",
   "execution_count": 32,
   "metadata": {},
   "outputs": [
    {
     "name": "stdout",
     "output_type": "stream",
     "text": [
      "[1, 1, 1, 1, 1, 1, 1, 1, 3]\n",
      "[3, 1, 1, 1, 1, 1, 1, 1, 1]\n",
      "iter: 14, swap: 2\n"
     ]
    }
   ],
   "source": [
    "# 二元选择排序改进 1\n",
    "# 当一趟中最大值和最小值相同时，说明剩下所有元素都相同，直接 break\n",
    "# lst = [1, 9, 8, 5, 6, 7, 4, 3, 2]\n",
    "lst = [1, 1, 1, 1, 1, 1, 1, 1, 3]\n",
    "print(lst)\n",
    "length = len(lst)\n",
    "count_iter = 0\n",
    "count_swap = 0\n",
    "for i in range(length // 2):\n",
    "    maxindex = i\n",
    "    minindex = -i - 1\n",
    "    for j in range(i + 1, length - i):\n",
    "        count_iter += 1\n",
    "        if lst[j] > lst[maxindex]:\n",
    "            maxindex = j\n",
    "        if lst[-j - 1] < lst[minindex]:\n",
    "            minindex = -j - 1\n",
    "    # 如果最大值和最小值相同时，说明剩下所有元素都相同，直接 break\n",
    "    if lst[maxindex] == lst[minindex]:\n",
    "        break\n",
    "    if i != maxindex:\n",
    "        count_swap += 1\n",
    "        lst[maxindex], lst[i] = lst[i], lst[maxindex]\n",
    "        # 交换最大值的时候可能会影响最小值，所以要判断\n",
    "        if i == length + minindex:\n",
    "            minindex = maxindex\n",
    "    if -i - 1 != minindex:\n",
    "        count_swap += 1\n",
    "        lst[minindex], lst[-i - 1] = lst[-i - 1], lst[minindex]\n",
    "print(lst)\n",
    "print('iter: {}, swap: {}'.format(count_iter, count_swap))"
   ]
  },
  {
   "cell_type": "code",
   "execution_count": 34,
   "metadata": {},
   "outputs": [
    {
     "name": "stdout",
     "output_type": "stream",
     "text": [
      "[1, 1, 1, 1, 1, 1, 1, 1, 3]\n",
      "[3, 1, 1, 1, 1, 1, 1, 1, 1]\n",
      "iter: 14, swap: 1\n"
     ]
    }
   ],
   "source": [
    "# 二元选择排序改进 2\n",
    "# 最后交换的时候判断，如果值相等则不需要交换\n",
    "# lst = [1, 9, 8, 5, 6, 7, 4, 3, 2]\n",
    "lst = [1, 1, 1, 1, 1, 1, 1, 1, 3]\n",
    "print(lst)\n",
    "length = len(lst)\n",
    "count_iter = 0\n",
    "count_swap = 0\n",
    "for i in range(length // 2):\n",
    "    maxindex = i\n",
    "    minindex = -i - 1\n",
    "    for j in range(i + 1, length - i):\n",
    "        count_iter += 1\n",
    "        if lst[j] > lst[maxindex]:\n",
    "            maxindex = j\n",
    "        if lst[-j - 1] < lst[minindex]:\n",
    "            minindex = -j - 1\n",
    "    # 如果最大值和最小值相同时，说明剩下所有元素都相同，直接 break\n",
    "    if lst[maxindex] == lst[minindex]:\n",
    "        break\n",
    "    if i != maxindex:\n",
    "        count_swap += 1\n",
    "        lst[maxindex], lst[i] = lst[i], lst[maxindex]\n",
    "        # 交换最大值的时候可能会影响最小值，所以要判断\n",
    "        if i == length + minindex:\n",
    "            minindex = maxindex\n",
    "    if -i - 1 != minindex and lst[-i - 1] != lst[minindex]:\n",
    "        count_swap += 1\n",
    "        lst[minindex], lst[-i - 1] = lst[-i - 1], lst[minindex]\n",
    "print(lst)\n",
    "print('iter: {}, swap: {}'.format(count_iter, count_swap))"
   ]
  }
 ],
 "metadata": {
  "kernelspec": {
   "display_name": "Python 3",
   "language": "python",
   "name": "python3"
  },
  "language_info": {
   "codemirror_mode": {
    "name": "ipython",
    "version": 3
   },
   "file_extension": ".py",
   "mimetype": "text/x-python",
   "name": "python",
   "nbconvert_exporter": "python",
   "pygments_lexer": "ipython3",
   "version": "3.7.4"
  }
 },
 "nbformat": 4,
 "nbformat_minor": 2
}
