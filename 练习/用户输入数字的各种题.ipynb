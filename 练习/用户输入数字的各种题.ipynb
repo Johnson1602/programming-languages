{
 "cells": [
  {
   "cell_type": "code",
   "execution_count": 1,
   "metadata": {},
   "outputs": [
    {
     "name": "stdout",
     "output_type": "stream",
     "text": [
      ">>> 8197509831845892358\n",
      "8 appears 5 times.\n",
      "5 appears 3 times.\n",
      "3 appears 2 times.\n",
      "2 appears 1 times.\n",
      "9 appears 3 times.\n",
      "8 appears 5 times.\n",
      "5 appears 3 times.\n",
      "4 appears 1 times.\n",
      "8 appears 5 times.\n",
      "1 appears 2 times.\n",
      "3 appears 2 times.\n",
      "8 appears 5 times.\n",
      "9 appears 3 times.\n",
      "0 appears 1 times.\n",
      "5 appears 3 times.\n",
      "7 appears 1 times.\n",
      "9 appears 3 times.\n",
      "1 appears 2 times.\n",
      "8 appears 5 times.\n"
     ]
    }
   ],
   "source": [
    "# 用户输入一个数字\n",
    "# 判断是几位数\n",
    "# 打印每一位数字及其重复的次数\n",
    "# 依次打印每一位数字，顺序个、十、百、千、万...位\n",
    "# 法 1\n",
    "num = input('>>> ')\n",
    "length = len(num)\n",
    "for i in range(1, length + 1):\n",
    "    i = -i\n",
    "    print('{} appears {} times.'.format(num[i], num.count(num[i])))\n",
    "\n",
    "# 如果这个数字有 n 位，则要遍历 n 次，每次遍历为了计算出现的次数则还要从头遍历一遍，即 n 次\n",
    "# 总共要计算 n ** 2 次，效率低"
   ]
  },
  {
   "cell_type": "code",
   "execution_count": 2,
   "metadata": {},
   "outputs": [
    {
     "name": "stdout",
     "output_type": "stream",
     "text": [
      ">>> 8197509831845892358\n",
      "8: appears 5 times.\n",
      "5: appears 3 times.\n",
      "3: appears 2 times.\n",
      "2: appears 1 times.\n",
      "9: appears 3 times.\n",
      "8: appears 5 times.\n",
      "5: appears 3 times.\n",
      "4: appears 1 times.\n",
      "8: appears 5 times.\n",
      "1: appears 2 times.\n",
      "3: appears 2 times.\n",
      "8: appears 5 times.\n",
      "9: appears 3 times.\n",
      "0: appears 1 times.\n",
      "5: appears 3 times.\n",
      "7: appears 1 times.\n",
      "9: appears 3 times.\n",
      "1: appears 2 times.\n",
      "8: appears 5 times.\n"
     ]
    }
   ],
   "source": [
    "# 法 2\n",
    "num = input('>>> ')\n",
    "length = len(num)\n",
    "# 存储每个数字出现的次数\n",
    "lst = []\n",
    "for i in range(10):\n",
    "    count = num.count(str(i))\n",
    "    lst.append(count)\n",
    "for j in range(1, length + 1):\n",
    "    j = -j\n",
    "    print('{}: appears {} times.'.format(num[j], lst[int(num[j])]))\n",
    "    \n",
    "# 如果这个数字有 n 位，计算 10 个数字遍历 10 次，每次要遍历整个数字，即 n 次\n",
    "# 总共要计算 10 * n 次，效率比上一种方法高"
   ]
  },
  {
   "cell_type": "code",
   "execution_count": 3,
   "metadata": {},
   "outputs": [
    {
     "name": "stdout",
     "output_type": "stream",
     "text": [
      ">>> 8197509831845892358\n",
      "8 appeared 5 times.\n",
      "5 appeared 3 times.\n",
      "3 appeared 2 times.\n",
      "2 appeared 1 times.\n",
      "9 appeared 3 times.\n",
      "8 appeared 5 times.\n",
      "5 appeared 3 times.\n",
      "4 appeared 1 times.\n",
      "8 appeared 5 times.\n",
      "1 appeared 2 times.\n",
      "3 appeared 2 times.\n",
      "8 appeared 5 times.\n",
      "9 appeared 3 times.\n",
      "0 appeared 1 times.\n",
      "5 appeared 3 times.\n",
      "7 appeared 1 times.\n",
      "9 appeared 3 times.\n",
      "1 appeared 2 times.\n",
      "8 appeared 5 times.\n"
     ]
    }
   ],
   "source": [
    "# 法 3\n",
    "num = input('>>> ')\n",
    "length = len(num)\n",
    "# 存储每个数字出现的次数\n",
    "lst = [0] * 10\n",
    "for i in range(length):\n",
    "    lst[int(num[i])] += 1\n",
    "# for j in range(1, length + 1):\n",
    "#     print('{} appeared {} times.'.format(num[-j], lst[int(num[-j])]))\n",
    "\n",
    "# 这里的 reversed() 是惰性求值，实际上并不会生成一个新的列表，只是返回一个可迭代对象\n",
    "# 所以这样使用不会占用额外空间和时间，不会降低程序运行效率\n",
    "# Python 3 中建议这样使用\n",
    "\n",
    "for j in reversed(num):\n",
    "    print('{} appeared {} times.'.format(j, lst[int(j)]))\n",
    "    \n",
    "# 如果这个数字有 n 位，遍历每个数字的同时计算这个数字出现的次数\n",
    "# 总共要计算 n 次，效率比上一种方法高"
   ]
  },
  {
   "cell_type": "code",
   "execution_count": 4,
   "metadata": {},
   "outputs": [
    {
     "name": "stdout",
     "output_type": "stream",
     "text": [
      ">>> 23847\n",
      ">>> 986235\n",
      ">>> 827\n",
      ">>> 98\n",
      ">>> 1128\n",
      "Number 1: 23847 has 5 digits.\n",
      "Number 2: 986235 has 6 digits.\n",
      "Number 3: 827 has 3 digits.\n",
      "Number 4: 98 has 2 digits.\n",
      "Number 5: 1128 has 4 digits.\n",
      "98\n",
      "827\n",
      "1128\n",
      "23847\n",
      "986235\n"
     ]
    }
   ],
   "source": [
    "# 输入5个数字，打印每个数字的位数，将这些数字排序打印，要求升序打印\n",
    "nums_str = []\n",
    "nums_int = []\n",
    "for i in range(5):\n",
    "    nums_str.append(input('>>> '))\n",
    "for j in range(5):\n",
    "    print('Number {}: {} has {} digits.'.format(j + 1, nums_str[j], len(nums_str[j])))\n",
    "for k in nums_str:\n",
    "    nums_int.append(int(k))\n",
    "for m in range(4):\n",
    "    flag = False\n",
    "    for n in range(4 - m):\n",
    "        if nums_int[n + 1] < nums_int[n]:\n",
    "            nums_int[n + 1], nums_int[n] = nums_int[n], nums_int[n + 1]\n",
    "            flag = True\n",
    "    if not flag:\n",
    "        break\n",
    "for x in nums_int:\n",
    "    print(x)"
   ]
  }
 ],
 "metadata": {
  "kernelspec": {
   "display_name": "Python 3",
   "language": "python",
   "name": "python3"
  },
  "language_info": {
   "codemirror_mode": {
    "name": "ipython",
    "version": 3
   },
   "file_extension": ".py",
   "mimetype": "text/x-python",
   "name": "python",
   "nbconvert_exporter": "python",
   "pygments_lexer": "ipython3",
   "version": "3.7.4"
  }
 },
 "nbformat": 4,
 "nbformat_minor": 2
}
