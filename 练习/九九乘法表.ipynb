{
 "cells": [
  {
   "cell_type": "code",
   "execution_count": null,
   "metadata": {},
   "outputs": [],
   "source": [
    "# 打印九九乘法表矩阵\n",
    "for i in range(1, 10):\n",
    "    for j in range(1, 10):\n",
    "        print(i * j, end='\\t')\n",
    "    print()"
   ]
  },
  {
   "cell_type": "code",
   "execution_count": null,
   "metadata": {},
   "outputs": [],
   "source": [
    "# 打印九九乘法表三角形\n",
    "for i in range(1, 10):\n",
    "    for j in range(1, i + 1):\n",
    "        print(j, '*', i, '=', i * j, sep='', end='\\t')\n",
    "    print()"
   ]
  },
  {
   "cell_type": "code",
   "execution_count": null,
   "metadata": {},
   "outputs": [],
   "source": [
    "# 打印九九乘法表三角形\n",
    "# 考虑空格长度\n",
    "for i in range(1, 10):\n",
    "    for j in range(1, i + 1):\n",
    "        result = '{}*{}={:<2}'.format(j, i, i * j)\n",
    "        print(result, end=' ')\n",
    "    print()"
   ]
  },
  {
   "cell_type": "code",
   "execution_count": null,
   "metadata": {},
   "outputs": [],
   "source": [
    "# 打印九九乘法表三角形\n",
    "# 拼字符串法\n",
    "for i in range(1, 10):\n",
    "    result = ''\n",
    "    for j in range(1, i + 1):\n",
    "        result += str(j * i) + '\\t'\n",
    "    print(result)"
   ]
  },
  {
   "cell_type": "code",
   "execution_count": null,
   "metadata": {},
   "outputs": [],
   "source": [
    "# 打印九九乘法表三角形（右上）\n",
    "# 法1\n",
    "for i in range(1, 10):\n",
    "    for j in range(1, 10):\n",
    "        if j < i:\n",
    "            print('      ', end='\\t')\n",
    "        else:\n",
    "            print('{}*{}={:<2}'.format(i, j, i * j), end='\\t')\n",
    "    print()"
   ]
  },
  {
   "cell_type": "code",
   "execution_count": null,
   "metadata": {},
   "outputs": [],
   "source": [
    "# 打印九九乘法表三角形（右上）\n",
    "# 法2\n",
    "for i in range(1, 10):\n",
    "    result = ''\n",
    "    for j in range(i, 10):\n",
    "        if i * j < 10:\n",
    "            result += str(i) + '*' + str(j) + '=' + str(i * j) + ' ' + '  '\n",
    "        else:\n",
    "            result += str(i) + '*' + str(j) + '=' + str(i * j) + '  '\n",
    "#         if i == 1 and j == 9:\n",
    "#             length = len(result)\n",
    "#             print(length)\n",
    "    print('{:>72}'.format(result))"
   ]
  },
  {
   "cell_type": "code",
   "execution_count": null,
   "metadata": {},
   "outputs": [],
   "source": [
    "# 打印九九乘法表三角形（右上）\n",
    "# 法3，优雅\n",
    "for i in range(1, 10):\n",
    "    s = ''\n",
    "    for j in range(i, 10):\n",
    "        s += '{}*{}={:<{}}'.format(i, j, i * j, 3 if j < 4 else 4)\n",
    "    print('{:>69}'.format(s))"
   ]
  }
 ],
 "metadata": {
  "kernelspec": {
   "display_name": "Python 3",
   "language": "python",
   "name": "python3"
  },
  "language_info": {
   "codemirror_mode": {
    "name": "ipython",
    "version": 3
   },
   "file_extension": ".py",
   "mimetype": "text/x-python",
   "name": "python",
   "nbconvert_exporter": "python",
   "pygments_lexer": "ipython3",
   "version": "3.7.4"
  }
 },
 "nbformat": 4,
 "nbformat_minor": 2
}
