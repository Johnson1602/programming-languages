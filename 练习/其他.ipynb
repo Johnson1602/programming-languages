{
 "cells": [
  {
   "cell_type": "code",
   "execution_count": null,
   "metadata": {},
   "outputs": [],
   "source": [
    "# 输入2个数字，输出最大数\n",
    "a, b = input('>>> ').split()\n",
    "if a > b:\n",
    "    print(a)\n",
    "elif a < b:\n",
    "    print(b)\n",
    "else:\n",
    "    print('Equal')"
   ]
  },
  {
   "cell_type": "code",
   "execution_count": null,
   "metadata": {},
   "outputs": [],
   "source": [
    "flag = 10\n",
    "while flag:\n",
    "    print(flag)\n",
    "    flag -= 1"
   ]
  },
  {
   "cell_type": "code",
   "execution_count": null,
   "metadata": {},
   "outputs": [],
   "source": [
    "for i in range(10):\n",
    "    if i % 2:\n",
    "        continue\n",
    "    print(i)"
   ]
  },
  {
   "cell_type": "code",
   "execution_count": null,
   "metadata": {},
   "outputs": [],
   "source": [
    "# 打印一个边长为n的正方形\n",
    "# 法1\n",
    "n = int(input('>>> '))\n",
    "for i in range(n):\n",
    "    if i == 0 or i == n - 1:\n",
    "        print(n * '*')\n",
    "    else:\n",
    "        print('*' + (n - 2) * ' ' + '*')"
   ]
  },
  {
   "cell_type": "code",
   "execution_count": null,
   "metadata": {},
   "outputs": [],
   "source": [
    "# 打印一个边长为n的正方形\n",
    "# 法2\n",
    "n = int(input('>>> '))\n",
    "e = -n // 2\n",
    "end = n + e\n",
    "for i in range(e, end):\n",
    "    if i == e or i == end - 1:\n",
    "        print(n * '*')\n",
    "    else:\n",
    "        print('*' + (n - 2) * ' ' + '*')"
   ]
  },
  {
   "cell_type": "code",
   "execution_count": null,
   "metadata": {},
   "outputs": [],
   "source": [
    "# 求100内所有奇数的和(2500)\n",
    "sum = 0\n",
    "for i in range(1, 100, 2):\n",
    "    sum += i\n",
    "print(sum)"
   ]
  },
  {
   "cell_type": "code",
   "execution_count": null,
   "metadata": {},
   "outputs": [],
   "source": [
    "# 判断学生成绩，成绩等级A~E。其中，90分以上为'A'，80~89分为'B'，70~79分为'C'，60~69分为'D'，60分以下为'E'\n",
    "score = eval(input('>>> '))\n",
    "if score >= 80:\n",
    "    if score >= 90:\n",
    "        print('A')\n",
    "    else:\n",
    "        print('B')\n",
    "else:\n",
    "    if score >= 70:\n",
    "        print('C')\n",
    "    elif score >= 60:\n",
    "        print('D')\n",
    "    else:\n",
    "        print('E')"
   ]
  },
  {
   "cell_type": "code",
   "execution_count": null,
   "metadata": {},
   "outputs": [],
   "source": [
    "# 求1到5阶乘之和\n",
    "# 法1\n",
    "sum = 0\n",
    "for i in range(1, 6):\n",
    "    mul = 1\n",
    "    for j in range(1, i + 1):\n",
    "        mul *= j\n",
    "    sum += mul\n",
    "print(sum)"
   ]
  },
  {
   "cell_type": "code",
   "execution_count": null,
   "metadata": {},
   "outputs": [],
   "source": [
    "# 求1到5阶乘之和\n",
    "# 法2\n",
    "mul = 1\n",
    "sum = 0\n",
    "for i in range(1, 6):\n",
    "    mul *= i\n",
    "    sum += mul\n",
    "print(sum) "
   ]
  },
  {
   "cell_type": "code",
   "execution_count": null,
   "metadata": {},
   "outputs": [],
   "source": [
    "# 打印100以内的斐波那契数列\n",
    "# 法1\n",
    "first = 0\n",
    "second = 1\n",
    "print('{}'.format(first), end = ' ')\n",
    "while second <= 100:\n",
    "    print(second,end=' ')\n",
    "    next = first + second\n",
    "    first = second\n",
    "    second = next"
   ]
  },
  {
   "cell_type": "code",
   "execution_count": null,
   "metadata": {},
   "outputs": [],
   "source": [
    "# 打印100以内的斐波那契数列\n",
    "# 法2，利用封装和解构\n",
    "first = 0\n",
    "second = 1\n",
    "print(first, end=' ')\n",
    "while second <= 100:\n",
    "    print(second, end=' ')\n",
    "    first, second = second, first + second"
   ]
  },
  {
   "cell_type": "code",
   "execution_count": null,
   "metadata": {},
   "outputs": [],
   "source": [
    "# 求斐波那契数列第101项，0不算\n",
    "first = 1\n",
    "second = 1\n",
    "for i in range(99):\n",
    "    next = first + second\n",
    "    first = second\n",
    "    second = next\n",
    "print(next)"
   ]
  },
  {
   "cell_type": "code",
   "execution_count": null,
   "metadata": {},
   "outputs": [],
   "source": [
    "# 请输入若干个数，打印出最大值\n",
    "max = 0\n",
    "while True:\n",
    "    num = input()\n",
    "    if not num:\n",
    "        break\n",
    "    # 如果不加这个判断条件，会引入用户没有输入的数值\n",
    "    # 例如输入 -1,-2,-3,会输出最大值为 0\n",
    "    if not max:\n",
    "        max = int(num)\n",
    "    elif int(num) > max:\n",
    "        max = int(num)\n",
    "print(max) "
   ]
  },
  {
   "cell_type": "code",
   "execution_count": null,
   "metadata": {},
   "outputs": [],
   "source": [
    "# 输入n个数，求每次输入后的算术平均数\n",
    "sum = 0\n",
    "count = 0\n",
    "while True:\n",
    "    n = input('>>> ')\n",
    "    if n:\n",
    "        sum += int(n)\n",
    "        count += 1\n",
    "        print('Ave:', sum / count)\n",
    "    else:\n",
    "        break"
   ]
  },
  {
   "cell_type": "code",
   "execution_count": null,
   "metadata": {},
   "outputs": [],
   "source": [
    "# 猴子吃桃问题\n",
    "n = 1\n",
    "for i in range(9):\n",
    "    n = 2 * (n + 1)\n",
    "print('First day:', n)"
   ]
  },
  {
   "cell_type": "code",
   "execution_count": 2,
   "metadata": {},
   "outputs": [
    {
     "name": "stdout",
     "output_type": "stream",
     "text": [
      "1 3 8\n"
     ]
    }
   ],
   "source": [
    "# lst = list(range(10)) # 这样一个列表，取出第二个、第四个、倒数第二个\n",
    "lst = list(range(10))\n",
    "_, second, _, forth, *_, msecond, _ = lst\n",
    "print(second, forth, msecond)"
   ]
  },
  {
   "cell_type": "code",
   "execution_count": 4,
   "metadata": {},
   "outputs": [
    {
     "name": "stdout",
     "output_type": "stream",
     "text": [
      "4\n"
     ]
    }
   ],
   "source": [
    "# 从lst = [1,(2,3,4),5]中，提取4出来\n",
    "lst = [1, (2, 3, 4), 5]\n",
    "_, mid_result, _ = lst\n",
    "*_, result = mid_result\n",
    "print(result)"
   ]
  },
  {
   "cell_type": "code",
   "execution_count": 5,
   "metadata": {},
   "outputs": [
    {
     "name": "stdout",
     "output_type": "stream",
     "text": [
      "JAVA_HOME /usr/bin\n"
     ]
    }
   ],
   "source": [
    "# 环境变量JAVA_HOME=/usr/bin，返回环境变量名和路径\n",
    "var = 'JAVA_HOME=/usr/bin'\n",
    "name, path = var.split('=')\n",
    "print(name, path)"
   ]
  },
  {
   "cell_type": "code",
   "execution_count": 6,
   "metadata": {},
   "outputs": [
    {
     "name": "stdout",
     "output_type": "stream",
     "text": [
      "[1, 2, 3, 4, 5, 6, 7, 8, 9]\n"
     ]
    }
   ],
   "source": [
    "# 对列表[1, 9, 8, 5, 6, 7, 4, 3, 2]使用冒泡法排序，要求使用封装和解构来交互数据\n",
    "lst = [1, 9, 8, 5, 6, 7, 4, 3, 2]\n",
    "times = len(lst) - 1\n",
    "for i in range(times):\n",
    "    flag = False\n",
    "    for j in range(times - i):\n",
    "        if lst[j] > lst[j + 1]:\n",
    "            lst[j], lst[j + 1] = lst[j + 1], lst[j]\n",
    "            flag = True\n",
    "    if flag == False:\n",
    "        break\n",
    "print(lst)"
   ]
  },
  {
   "cell_type": "code",
   "execution_count": null,
   "metadata": {},
   "outputs": [],
   "source": []
  },
  {
   "cell_type": "code",
   "execution_count": null,
   "metadata": {},
   "outputs": [],
   "source": []
  },
  {
   "cell_type": "code",
   "execution_count": null,
   "metadata": {},
   "outputs": [],
   "source": []
  },
  {
   "cell_type": "code",
   "execution_count": null,
   "metadata": {},
   "outputs": [],
   "source": []
  },
  {
   "cell_type": "code",
   "execution_count": null,
   "metadata": {},
   "outputs": [],
   "source": []
  },
  {
   "cell_type": "code",
   "execution_count": null,
   "metadata": {},
   "outputs": [],
   "source": []
  },
  {
   "cell_type": "code",
   "execution_count": null,
   "metadata": {},
   "outputs": [],
   "source": []
  },
  {
   "cell_type": "code",
   "execution_count": null,
   "metadata": {},
   "outputs": [],
   "source": []
  },
  {
   "cell_type": "code",
   "execution_count": null,
   "metadata": {},
   "outputs": [],
   "source": []
  },
  {
   "cell_type": "code",
   "execution_count": null,
   "metadata": {},
   "outputs": [],
   "source": []
  }
 ],
 "metadata": {
  "kernelspec": {
   "display_name": "Python 3",
   "language": "python",
   "name": "python3"
  },
  "language_info": {
   "codemirror_mode": {
    "name": "ipython",
    "version": 3
   },
   "file_extension": ".py",
   "mimetype": "text/x-python",
   "name": "python",
   "nbconvert_exporter": "python",
   "pygments_lexer": "ipython3",
   "version": "3.7.4"
  }
 },
 "nbformat": 4,
 "nbformat_minor": 2
}
