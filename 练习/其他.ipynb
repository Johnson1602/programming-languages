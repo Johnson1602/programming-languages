{
 "cells": [
  {
   "cell_type": "code",
   "execution_count": null,
   "metadata": {},
   "outputs": [],
   "source": [
    "# 输入2个数字，输出最大数\n",
    "a, b = input('>>> ').split()\n",
    "if a > b:\n",
    "    print(a)\n",
    "elif a < b:\n",
    "    print(b)\n",
    "else:\n",
    "    print('Equal')"
   ]
  },
  {
   "cell_type": "code",
   "execution_count": null,
   "metadata": {},
   "outputs": [],
   "source": [
    "flag = 10\n",
    "while flag:\n",
    "    print(flag)\n",
    "    flag -= 1"
   ]
  },
  {
   "cell_type": "code",
   "execution_count": null,
   "metadata": {},
   "outputs": [],
   "source": [
    "for i in range(10):\n",
    "    if i % 2:\n",
    "        continue\n",
    "    print(i)"
   ]
  },
  {
   "cell_type": "code",
   "execution_count": null,
   "metadata": {},
   "outputs": [],
   "source": [
    "# 打印一个边长为n的正方形\n",
    "# 法1\n",
    "n = int(input('>>> '))\n",
    "for i in range(n):\n",
    "    if i == 0 or i == n - 1:\n",
    "        print(n * '*')\n",
    "    else:\n",
    "        print('*' + (n - 2) * ' ' + '*')"
   ]
  },
  {
   "cell_type": "code",
   "execution_count": null,
   "metadata": {},
   "outputs": [],
   "source": [
    "# 打印一个边长为n的正方形\n",
    "# 法2\n",
    "n = int(input('>>> '))\n",
    "e = -n // 2\n",
    "end = n + e\n",
    "for i in range(e, end):\n",
    "    if i == e or i == end - 1:\n",
    "        print(n * '*')\n",
    "    else:\n",
    "        print('*' + (n - 2) * ' ' + '*')"
   ]
  },
  {
   "cell_type": "code",
   "execution_count": null,
   "metadata": {},
   "outputs": [],
   "source": [
    "# 求100内所有奇数的和(2500)\n",
    "sum = 0\n",
    "for i in range(1, 100, 2):\n",
    "    sum += i\n",
    "print(sum)"
   ]
  },
  {
   "cell_type": "code",
   "execution_count": null,
   "metadata": {},
   "outputs": [],
   "source": [
    "# 判断学生成绩，成绩等级A~E。其中，90分以上为'A'，80~89分为'B'，70~79分为'C'，60~69分为'D'，60分以下为'E'\n",
    "score = eval(input('>>> '))\n",
    "if score >= 80:\n",
    "    if score >= 90:\n",
    "        print('A')\n",
    "    else:\n",
    "        print('B')\n",
    "else:\n",
    "    if score >= 70:\n",
    "        print('C')\n",
    "    elif score >= 60:\n",
    "        print('D')\n",
    "    else:\n",
    "        print('E')"
   ]
  },
  {
   "cell_type": "code",
   "execution_count": null,
   "metadata": {},
   "outputs": [],
   "source": [
    "# 求1到5阶乘之和\n",
    "# 法1\n",
    "sum = 0\n",
    "for i in range(1, 6):\n",
    "    mul = 1\n",
    "    for j in range(1, i + 1):\n",
    "        mul *= j\n",
    "    sum += mul\n",
    "print(sum)"
   ]
  },
  {
   "cell_type": "code",
   "execution_count": null,
   "metadata": {},
   "outputs": [],
   "source": [
    "# 求1到5阶乘之和\n",
    "# 法2\n",
    "mul = 1\n",
    "sum = 0\n",
    "for i in range(1, 6):\n",
    "    mul *= i\n",
    "    sum += mul\n",
    "print(sum) "
   ]
  },
  {
   "cell_type": "code",
   "execution_count": null,
   "metadata": {},
   "outputs": [],
   "source": [
    "# 打印100以内的斐波那契数列\n",
    "# 法1\n",
    "first = 0\n",
    "second = 1\n",
    "print('{}'.format(first), end = ' ')\n",
    "while second <= 100:\n",
    "    print(second,end=' ')\n",
    "    next = first + second\n",
    "    first = second\n",
    "    second = next"
   ]
  },
  {
   "cell_type": "code",
   "execution_count": null,
   "metadata": {},
   "outputs": [],
   "source": [
    "# 打印100以内的斐波那契数列\n",
    "# 法2，利用封装和解构\n",
    "first = 0\n",
    "second = 1\n",
    "print(first, end=' ')\n",
    "while second <= 100:\n",
    "    print(second, end=' ')\n",
    "    first, second = second, first + second"
   ]
  },
  {
   "cell_type": "code",
   "execution_count": null,
   "metadata": {},
   "outputs": [],
   "source": [
    "# 求斐波那契数列第101项，0不算\n",
    "first = 1\n",
    "second = 1\n",
    "for i in range(99):\n",
    "    next = first + second\n",
    "    first = second\n",
    "    second = next\n",
    "print(next)"
   ]
  },
  {
   "cell_type": "code",
   "execution_count": null,
   "metadata": {},
   "outputs": [],
   "source": [
    "# 请输入若干个数，打印出最大值\n",
    "max = 0\n",
    "while True:\n",
    "    num = input()\n",
    "    if not num:\n",
    "        break\n",
    "    # 如果不加这个判断条件，会引入用户没有输入的数值\n",
    "    # 例如输入 -1,-2,-3,会输出最大值为 0\n",
    "    if not max:\n",
    "        max = int(num)\n",
    "    elif int(num) > max:\n",
    "        max = int(num)\n",
    "print(max) "
   ]
  },
  {
   "cell_type": "code",
   "execution_count": null,
   "metadata": {},
   "outputs": [],
   "source": [
    "# 输入n个数，求每次输入后的算术平均数\n",
    "sum = 0\n",
    "count = 0\n",
    "while True:\n",
    "    n = input('>>> ')\n",
    "    if n:\n",
    "        sum += int(n)\n",
    "        count += 1\n",
    "        print('Ave:', sum / count)\n",
    "    else:\n",
    "        break"
   ]
  },
  {
   "cell_type": "code",
   "execution_count": null,
   "metadata": {},
   "outputs": [],
   "source": [
    "# 猴子吃桃问题\n",
    "n = 1\n",
    "for i in range(9):\n",
    "    n = 2 * (n + 1)\n",
    "print('First day:', n)"
   ]
  },
  {
   "cell_type": "code",
   "execution_count": 2,
   "metadata": {},
   "outputs": [
    {
     "name": "stdout",
     "output_type": "stream",
     "text": [
      "1 3 8\n"
     ]
    }
   ],
   "source": [
    "# lst = list(range(10)) # 这样一个列表，取出第二个、第四个、倒数第二个\n",
    "lst = list(range(10))\n",
    "_, second, _, forth, *_, msecond, _ = lst\n",
    "print(second, forth, msecond)"
   ]
  },
  {
   "cell_type": "code",
   "execution_count": 4,
   "metadata": {},
   "outputs": [
    {
     "name": "stdout",
     "output_type": "stream",
     "text": [
      "4\n"
     ]
    }
   ],
   "source": [
    "# 从lst = [1,(2,3,4),5]中，提取4出来\n",
    "lst = [1, (2, 3, 4), 5]\n",
    "_, mid_result, _ = lst\n",
    "*_, result = mid_result\n",
    "print(result)"
   ]
  },
  {
   "cell_type": "code",
   "execution_count": 5,
   "metadata": {},
   "outputs": [
    {
     "name": "stdout",
     "output_type": "stream",
     "text": [
      "JAVA_HOME /usr/bin\n"
     ]
    }
   ],
   "source": [
    "# 环境变量JAVA_HOME=/usr/bin，返回环境变量名和路径\n",
    "var = 'JAVA_HOME=/usr/bin'\n",
    "name, path = var.split('=')\n",
    "print(name, path)"
   ]
  },
  {
   "cell_type": "code",
   "execution_count": 6,
   "metadata": {},
   "outputs": [
    {
     "name": "stdout",
     "output_type": "stream",
     "text": [
      "[1, 2, 3, 4, 5, 6, 7, 8, 9]\n"
     ]
    }
   ],
   "source": [
    "# 对列表[1, 9, 8, 5, 6, 7, 4, 3, 2]使用冒泡法排序，要求使用封装和解构来交互数据\n",
    "lst = [1, 9, 8, 5, 6, 7, 4, 3, 2]\n",
    "times = len(lst) - 1\n",
    "for i in range(times):\n",
    "    flag = False\n",
    "    for j in range(times - i):\n",
    "        if lst[j] > lst[j + 1]:\n",
    "            lst[j], lst[j + 1] = lst[j + 1], lst[j]\n",
    "            flag = True\n",
    "    if flag == False:\n",
    "        break\n",
    "print(lst)"
   ]
  },
  {
   "cell_type": "code",
   "execution_count": 11,
   "metadata": {},
   "outputs": [
    {
     "name": "stdout",
     "output_type": "stream",
     "text": [
      "[1, 2, 3]\n",
      "[4, 5, 6]\n",
      "[7, 8, 9]\n",
      "\n",
      "[1, 4, 7]\n",
      "[2, 5, 8]\n",
      "[3, 6, 9]\n"
     ]
    }
   ],
   "source": [
    "# 给定一个3*3方阵，求其转置矩阵\n",
    "# 法1 直接对称\n",
    "matrix = [[1, 2, 3], [4, 5, 6], [7, 8, 9]]\n",
    "for row in matrix:\n",
    "    print(row)\n",
    "print()\n",
    "for i in range(1, 3):\n",
    "    for j in range(i):\n",
    "        matrix[i][j], matrix[j][i] = matrix[j][i], matrix[i][j]\n",
    "for row in matrix:\n",
    "    print(row)"
   ]
  },
  {
   "cell_type": "code",
   "execution_count": 5,
   "metadata": {},
   "outputs": [
    {
     "name": "stdout",
     "output_type": "stream",
     "text": [
      "[1, 2, 3]\n",
      "[4, 5, 6]\n",
      "[7, 8, 9]\n",
      "\n",
      "[1, 4, 7]\n",
      "[2, 5, 8]\n",
      "[3, 6, 9]\n"
     ]
    }
   ],
   "source": [
    "# 给定一个3*3方阵，求其转置矩阵\n",
    "# 法2 用一个新矩阵存\n",
    "matrix = [[1, 2, 3], [4, 5, 6], [7, 8, 9]]\n",
    "rows = len(matrix[0])\n",
    "transpose_matrix = []\n",
    "for m in range(rows):\n",
    "    transpose_matrix.append([])\n",
    "for row in matrix:\n",
    "    print(row)\n",
    "print()\n",
    "for i in range(3):\n",
    "    for j in range(3):\n",
    "        transpose_matrix[i].append(matrix[j][i])\n",
    "for row in transpose_matrix:\n",
    "    print(row)"
   ]
  },
  {
   "cell_type": "code",
   "execution_count": 10,
   "metadata": {},
   "outputs": [
    {
     "name": "stdout",
     "output_type": "stream",
     "text": [
      "[1, 2, 3]\n",
      "[4, 5, 6]\n",
      "\n",
      "[1, 4]\n",
      "[2, 5]\n",
      "[3, 6]\n"
     ]
    }
   ],
   "source": [
    "# 给定一个矩阵，求其转置矩阵\n",
    "matrix = [[1, 2, 3], [4, 5, 6]]\n",
    "rows = len(matrix[0])\n",
    "columns = len(matrix)\n",
    "transpose_matrix = []\n",
    "for m in range(rows):\n",
    "    transpose_matrix.append([])\n",
    "for n in matrix:\n",
    "    print(n)\n",
    "print()\n",
    "for i in range(rows):\n",
    "    for j in range(columns):\n",
    "        transpose_matrix[i].append(matrix[j][i])\n",
    "for n in transpose_matrix:\n",
    "    print(n)"
   ]
  },
  {
   "cell_type": "code",
   "execution_count": 17,
   "metadata": {},
   "outputs": [
    {
     "name": "stdout",
     "output_type": "stream",
     "text": [
      "Random numbers are: [17, 15, 9, 14, 2, 12, 18, 10, 18, 9]\n",
      "2 repeated number(s): [9, 18]\n",
      "6 non-repeated number(s): [2, 10, 12, 14, 15, 17]\n"
     ]
    }
   ],
   "source": [
    "# 随机产生10个数字\n",
    "# 每个数字取值范围[1,20]\n",
    "# 统计重复的数字有几个?分别是什么?\n",
    "# 统计不重复的数字有几个?分别是什么?\n",
    "# 举例:11, 7 ,5 ,11 ,6, 7, 4，其中2个数字7和11重复了，3个数字4、5、6没有重复过\n",
    "\n",
    "from random import randint\n",
    "\n",
    "nums = [0] * 10\n",
    "result = [0] * 21\n",
    "repeat = []\n",
    "non_repeat = []\n",
    "for i in range(10):\n",
    "    nums[i] = randint(1, 20)\n",
    "    result[nums[i]] += 1\n",
    "for j in range(20):\n",
    "    if result[j] == 1:\n",
    "        non_repeat.append(j)\n",
    "    if result[j] > 1:\n",
    "        repeat.append(j)\n",
    "print('Random numbers are: {}\\n{} repeated number(s): {}\\n{} non-repeated number(s): {}'\\\n",
    "     .format(nums, len(repeat), repeat, len(non_repeat), non_repeat))"
   ]
  },
  {
   "cell_type": "code",
   "execution_count": 2,
   "metadata": {},
   "outputs": [
    {
     "name": "stdout",
     "output_type": "stream",
     "text": [
      "First group: [11, 16, 14, 11, 16, 13, 11, 11, 20, 16]\n",
      "Second group: [17, 17, 10, 14, 18, 19, 17, 14, 13, 17]\n",
      "There are 9 different numbers, and they are: {10, 11, 13, 14, 16, 17, 18, 19, 20}\n",
      "There are 7 non-repeated numbers, and they are: {10, 11, 16, 17, 18, 19, 20}\n",
      "There are 2 repeated numbers, and they are: {13, 14}\n"
     ]
    }
   ],
   "source": [
    "# 随机产生2组各10个数字的列表，如下要求:\n",
    "# 每个数字取值范围[10,20]\n",
    "# 统计20个数字中，一共有多少个不同的数字?\n",
    "# 2组中，不重复的数字有几个?分别是什么?\n",
    "# 2组中，重复的数字有几个?分别是什么?\n",
    "\n",
    "from random import randint\n",
    "\n",
    "nums1 = [0] * 10\n",
    "nums2 = [0] * 10\n",
    "for i in range(10):\n",
    "    nums1[i] = randint(10, 20)\n",
    "    nums2[i] = randint(10, 20)\n",
    "s1 = set(nums1)\n",
    "s2 = set(nums2)\n",
    "all_different_numbers = s1 | s2\n",
    "non_repeat = s1 ^ s2\n",
    "repeat = s1 & s2\n",
    "\n",
    "print('First group: {}\\nSecond group: {}\\nThere are {} different numbers, and they are: {}'\\\n",
    "      .format(nums1, nums2, len(all_different_numbers), all_different_numbers))\n",
    "print('There are {} non-repeated numbers, and they are: {}'.format(len(non_repeat), non_repeat))\n",
    "print('There are {} repeated numbers, and they are: {}'.format(len(repeat), repeat))"
   ]
  },
  {
   "cell_type": "code",
   "execution_count": null,
   "metadata": {},
   "outputs": [],
   "source": []
  },
  {
   "cell_type": "code",
   "execution_count": null,
   "metadata": {},
   "outputs": [],
   "source": []
  },
  {
   "cell_type": "code",
   "execution_count": null,
   "metadata": {},
   "outputs": [],
   "source": []
  },
  {
   "cell_type": "code",
   "execution_count": null,
   "metadata": {},
   "outputs": [],
   "source": []
  },
  {
   "cell_type": "code",
   "execution_count": null,
   "metadata": {},
   "outputs": [],
   "source": []
  },
  {
   "cell_type": "code",
   "execution_count": null,
   "metadata": {},
   "outputs": [],
   "source": []
  }
 ],
 "metadata": {
  "kernelspec": {
   "display_name": "Python 3",
   "language": "python",
   "name": "python3"
  },
  "language_info": {
   "codemirror_mode": {
    "name": "ipython",
    "version": 3
   },
   "file_extension": ".py",
   "mimetype": "text/x-python",
   "name": "python",
   "nbconvert_exporter": "python",
   "pygments_lexer": "ipython3",
   "version": "3.7.4"
  }
 },
 "nbformat": 4,
 "nbformat_minor": 2
}
