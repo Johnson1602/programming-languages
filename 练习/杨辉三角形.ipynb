{
 "cells": [
  {
   "cell_type": "markdown",
   "metadata": {},
   "source": [
    "# 计算杨辉三角前6行"
   ]
  },
  {
   "cell_type": "code",
   "execution_count": 3,
   "metadata": {},
   "outputs": [
    {
     "name": "stdout",
     "output_type": "stream",
     "text": [
      "[1]\n",
      "[1, 1]\n",
      "[1, 2, 1]\n",
      "[1, 3, 3, 1]\n",
      "[1, 4, 6, 4, 1]\n",
      "[1, 5, 10, 10, 5, 1]\n"
     ]
    }
   ],
   "source": [
    "# 1 - 1 二维结构嵌套\n",
    "triangle = [[1], [1, 1]]\n",
    "n = 6\n",
    "\n",
    "for i in range(2, n):\n",
    "    row = [1]\n",
    "    for j in range(i - 1):\n",
    "        new_element = triangle[i - 1][j] + triangle[i - 1][j + 1] \n",
    "        row.append(new_element)\n",
    "    row.append(1)\n",
    "    triangle.append(row)\n",
    "    \n",
    "for k in triangle:\n",
    "    print(k)"
   ]
  },
  {
   "cell_type": "code",
   "execution_count": 7,
   "metadata": {},
   "outputs": [
    {
     "name": "stdout",
     "output_type": "stream",
     "text": [
      "[1]\n",
      "[1, 1]\n",
      "[1, 2, 1]\n",
      "[1, 3, 3, 1]\n",
      "[1, 4, 6, 4, 1]\n",
      "[1, 5, 10, 10, 5, 1]\n"
     ]
    }
   ],
   "source": [
    "# 1 - 2 一维嵌套结构\n",
    "# 相较于二维结构的优点是：不用把每一行都存着，节省空间\n",
    "pre_row = []\n",
    "for i in range(6):\n",
    "    new_row = [1]\n",
    "    if i == 0:\n",
    "        print('[1]')\n",
    "        continue\n",
    "    for j in range(i - 1):\n",
    "        new_element = pre_row[j] + pre_row[j + 1]\n",
    "        new_row.append(new_element)\n",
    "    new_row.append(1)\n",
    "    print(new_row)\n",
    "    pre_row = new_row"
   ]
  },
  {
   "cell_type": "code",
   "execution_count": 11,
   "metadata": {},
   "outputs": [
    {
     "name": "stdout",
     "output_type": "stream",
     "text": [
      "[1]\n",
      "[1, 1]\n",
      "[1, 2, 1]\n",
      "[1, 3, 3, 1]\n",
      "[1, 4, 6, 4, 1]\n",
      "[1, 5, 10, 10, 5, 1]\n"
     ]
    }
   ],
   "source": [
    "# 2 - 1 理解为每一行（除第一行外）的首尾两个数字是由上一行的第一个和 0 相加得到（即上一行两边补 0）\n",
    "for i in range(6):\n",
    "    new_row = []\n",
    "    if i == 0:\n",
    "        new_row.append(1)\n",
    "        print(new_row)\n",
    "        pre_row = new_row\n",
    "        pre_row.insert(0, 0)\n",
    "        pre_row.append(0)\n",
    "        continue\n",
    "    for j in range(i + 1):\n",
    "        new_row.append(pre_row[j] + pre_row[j + 1])\n",
    "    print(new_row)\n",
    "    pre_row = new_row\n",
    "    pre_row.insert(0, 0)\n",
    "    pre_row.append(0)"
   ]
  },
  {
   "cell_type": "code",
   "execution_count": 19,
   "metadata": {},
   "outputs": [
    {
     "name": "stdout",
     "output_type": "stream",
     "text": [
      "[1]\n",
      "[1, 1]\n",
      "[1, 2, 1]\n",
      "[1, 3, 3, 1]\n",
      "[1, 4, 6, 4, 1]\n",
      "[1, 5, 10, 10, 5, 1]\n"
     ]
    }
   ],
   "source": [
    "# 2 - 2 理解为每一行（除第一行外）的首尾两个数字是由上一行的第一个和 0 相加得到（即上一行两边补 0）\n",
    "# 这一次只使用一个 0，只在行尾追加一个 0，并使用负索引 -1，将上一行行尾的 0 给拉过来\n",
    "# 这样就能够免去使用 insert 函数，降低程序运行效率\n",
    "print('[1]')\n",
    "pre_row = [1, 0]\n",
    "for i in range(1, 6):\n",
    "    new_row = []\n",
    "    for j in range(i + 1):\n",
    "        new_row.append(pre_row[j - 1] + pre_row[j])\n",
    "    print(new_row)\n",
    "    pre_row = new_row\n",
    "    pre_row.append(0)"
   ]
  },
  {
   "cell_type": "code",
   "execution_count": 26,
   "metadata": {},
   "outputs": [
    {
     "name": "stdout",
     "output_type": "stream",
     "text": [
      "[1]\n",
      "[1, 1]\n",
      "[1, 2, 1]\n",
      "[1, 3, 3, 1]\n",
      "[1, 4, 6, 4, 1]\n",
      "[1, 5, 10, 10, 5, 1]\n"
     ]
    }
   ],
   "source": [
    "# 3 一次性开辟每行所需的所有空间，并且利用对称进行赋值\n",
    "for i in range(6):\n",
    "    new_row = [1] * (i + 1)  # 使用 1 来填充，直接节省了首尾的计算\n",
    "    for j in range(i // 2):  # i = 2 (第三趟) 才能进来\n",
    "        new_element = pre_row[j] + pre_row[j + 1]\n",
    "        new_row[j + 1] = new_element\n",
    "        new_row[-j - 2] = new_element  # 这里使用负索引\n",
    "    print(new_row)\n",
    "    pre_row = new_row"
   ]
  },
  {
   "cell_type": "code",
   "execution_count": 1,
   "metadata": {},
   "outputs": [
    {
     "name": "stdout",
     "output_type": "stream",
     "text": [
      "[1]\n",
      "[1, 1]\n",
      "[1, 2, 1]\n",
      "[1, 3, 3, 1]\n",
      "[1, 4, 6, 4, 1]\n",
      "[1, 5, 10, 10, 5, 1]\n"
     ]
    }
   ],
   "source": [
    "# 4 只使用一个列表，每个新行都把上一行的旧元素给顶掉，最后再补个 1\n",
    "row = []\n",
    "for i in range(6):\n",
    "    row.append(1)\n",
    "    temp = 1\n",
    "    for j in range(i // 2):\n",
    "        new_element = temp + row[j + 1]\n",
    "        temp = row[j + 1]\n",
    "        row[j + 1] = new_element\n",
    "        row[-j - 2] = new_element\n",
    "    print(row)"
   ]
  }
 ],
 "metadata": {
  "kernelspec": {
   "display_name": "Python 3",
   "language": "python",
   "name": "python3"
  },
  "language_info": {
   "codemirror_mode": {
    "name": "ipython",
    "version": 3
   },
   "file_extension": ".py",
   "mimetype": "text/x-python",
   "name": "python",
   "nbconvert_exporter": "python",
   "pygments_lexer": "ipython3",
   "version": "3.7.4"
  }
 },
 "nbformat": 4,
 "nbformat_minor": 2
}
